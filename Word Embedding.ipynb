{
 "cells": [
  {
   "cell_type": "code",
   "execution_count": 1,
   "metadata": {},
   "outputs": [],
   "source": [
    "import nltk\n",
    "import pandas as pd"
   ]
  },
  {
   "cell_type": "code",
   "execution_count": 2,
   "metadata": {},
   "outputs": [],
   "source": [
    "import gensim\n",
    "from gensim.models import Word2Vec"
   ]
  },
  {
   "cell_type": "code",
   "execution_count": 6,
   "metadata": {},
   "outputs": [
    {
     "name": "stdout",
     "output_type": "stream",
     "text": [
      " Volume in drive C has no label.\n",
      " Volume Serial Number is F483-228F\n",
      "\n",
      " Directory of C:\\Users\\harip\\Documents\\Uncanny Valley\\CreepyPasta\n",
      "\n",
      "09/21/2020  01:29 PM    <DIR>          .\n",
      "09/21/2020  01:29 PM    <DIR>          ..\n",
      "09/21/2020  01:12 PM            34,820 .DS_Store\n",
      "06/07/2020  01:36 PM        29,961,841 creepypasta_comments.csv\n",
      "06/07/2020  01:23 PM               722 RS_2005-06_creepypasta.csv\n",
      "06/07/2020  01:23 PM               722 RS_2005-07_creepypasta.csv\n",
      "06/07/2020  01:23 PM               722 RS_2005-08_creepypasta.csv\n",
      "06/07/2020  01:23 PM               722 RS_2005-09_creepypasta.csv\n",
      "06/07/2020  01:23 PM               722 RS_2005-10_creepypasta.csv\n",
      "06/07/2020  01:23 PM               722 RS_2005-11_creepypasta.csv\n",
      "06/07/2020  01:23 PM               722 RS_2005-12_creepypasta.csv\n",
      "06/07/2020  01:23 PM               722 RS_2006-01_creepypasta.csv\n",
      "06/07/2020  01:23 PM               722 RS_2006-02_creepypasta.csv\n",
      "06/07/2020  01:23 PM               722 RS_2006-03_creepypasta.csv\n",
      "06/07/2020  01:23 PM               722 RS_2006-04_creepypasta.csv\n",
      "06/07/2020  01:23 PM               722 RS_2006-05_creepypasta.csv\n",
      "06/07/2020  01:23 PM               722 RS_2006-06_creepypasta.csv\n",
      "06/07/2020  01:23 PM               722 RS_2006-07_creepypasta.csv\n",
      "06/07/2020  01:23 PM               722 RS_2006-08_creepypasta.csv\n",
      "06/07/2020  01:23 PM               722 RS_2006-09_creepypasta.csv\n",
      "06/07/2020  01:23 PM               722 RS_2006-10_creepypasta.csv\n",
      "06/07/2020  01:23 PM               722 RS_2006-11_creepypasta.csv\n",
      "06/07/2020  01:23 PM               722 RS_2006-12_creepypasta.csv\n",
      "06/07/2020  01:23 PM               722 RS_2007-01_creepypasta.csv\n",
      "06/07/2020  01:23 PM               722 RS_2007-02_creepypasta.csv\n",
      "06/07/2020  01:23 PM               722 RS_2007-03_creepypasta.csv\n",
      "06/07/2020  01:23 PM               722 RS_2007-04_creepypasta.csv\n",
      "06/07/2020  01:23 PM               722 RS_2007-05_creepypasta.csv\n",
      "06/07/2020  01:23 PM               722 RS_2007-06_creepypasta.csv\n",
      "06/07/2020  01:23 PM               722 RS_2007-07_creepypasta.csv\n",
      "06/07/2020  01:23 PM               722 RS_2007-08_creepypasta.csv\n",
      "06/07/2020  01:23 PM               722 RS_2007-09_creepypasta.csv\n",
      "06/07/2020  01:23 PM               722 RS_2007-10_creepypasta.csv\n",
      "06/07/2020  01:24 PM               722 RS_2007-11_creepypasta.csv\n",
      "06/07/2020  01:24 PM               722 RS_2007-12_creepypasta.csv\n",
      "06/07/2020  01:24 PM               722 RS_2008-01_creepypasta.csv\n",
      "06/07/2020  01:24 PM               722 RS_2008-02_creepypasta.csv\n",
      "06/07/2020  01:24 PM               722 RS_2008-03_creepypasta.csv\n",
      "06/07/2020  01:24 PM               722 RS_2008-04_creepypasta.csv\n",
      "06/07/2020  01:24 PM               722 RS_2008-05_creepypasta.csv\n",
      "06/07/2020  01:24 PM               722 RS_2008-06_creepypasta.csv\n",
      "06/07/2020  01:25 PM               722 RS_2008-07_creepypasta.csv\n",
      "06/07/2020  01:25 PM               722 RS_2008-08_creepypasta.csv\n",
      "06/07/2020  01:25 PM               722 RS_2008-09_creepypasta.csv\n",
      "06/07/2020  01:26 PM               722 RS_2008-10_creepypasta.csv\n",
      "06/07/2020  01:26 PM               722 RS_2008-11_creepypasta.csv\n",
      "06/07/2020  01:26 PM               722 RS_2008-12_creepypasta.csv\n",
      "06/07/2020  01:26 PM               722 RS_2009-01_creepypasta.csv\n",
      "06/07/2020  01:27 PM               722 RS_2009-02_creepypasta.csv\n",
      "06/07/2020  01:27 PM               722 RS_2009-03_creepypasta.csv\n",
      "06/07/2020  01:27 PM               722 RS_2009-04_creepypasta.csv\n",
      "06/07/2020  01:27 PM               722 RS_2009-05_creepypasta.csv\n",
      "06/07/2020  01:27 PM               722 RS_2009-06_creepypasta.csv\n",
      "06/07/2020  01:28 PM               722 RS_2009-07_creepypasta.csv\n",
      "06/07/2020  01:28 PM               722 RS_2009-08_creepypasta.csv\n",
      "06/07/2020  01:29 PM               722 RS_2009-09_creepypasta.csv\n",
      "06/07/2020  01:29 PM               722 RS_2009-10_creepypasta.csv\n",
      "06/07/2020  01:29 PM               722 RS_2009-11_creepypasta.csv\n",
      "06/07/2020  01:30 PM               722 RS_2009-12_creepypasta.csv\n",
      "06/07/2020  01:30 PM               722 RS_2010-01_creepypasta.csv\n",
      "06/07/2020  01:31 PM               722 RS_2010-02_creepypasta.csv\n",
      "06/07/2020  01:31 PM             1,223 RS_2010-03_creepypasta.csv\n",
      "06/07/2020  01:32 PM               722 RS_2010-04_creepypasta.csv\n",
      "06/07/2020  01:32 PM               722 RS_2010-05_creepypasta.csv\n",
      "06/07/2020  01:33 PM               722 RS_2010-06_creepypasta.csv\n",
      "06/07/2020  01:33 PM               722 RS_2010-07_creepypasta.csv\n",
      "06/07/2020  01:34 PM               722 RS_2010-08_creepypasta.csv\n",
      "06/07/2020  01:34 PM               722 RS_2010-09_creepypasta.csv\n",
      "06/07/2020  01:35 PM               722 RS_2010-10_creepypasta.csv\n",
      "06/07/2020  01:36 PM               722 RS_2010-11_creepypasta.csv\n",
      "06/07/2020  01:37 PM               722 RS_2010-12_creepypasta.csv\n",
      "06/07/2020  01:37 PM               722 RS_2011-01_creepypasta.csv\n",
      "06/07/2020  01:38 PM               722 RS_2011-02_creepypasta.csv\n",
      "06/07/2020  01:39 PM             1,090 RS_2011-03_creepypasta.csv\n",
      "06/07/2020  01:39 PM             2,058 RS_2011-04_creepypasta.csv\n",
      "06/07/2020  01:40 PM               722 RS_2011-05_creepypasta.csv\n",
      "06/07/2020  01:41 PM            10,265 RS_2011-06_creepypasta.csv\n",
      "06/07/2020  01:42 PM            15,085 RS_2011-07_creepypasta.csv\n",
      "06/07/2020  01:43 PM             3,444 RS_2011-08_creepypasta.csv\n",
      "06/07/2020  01:44 PM             1,964 RS_2011-09_creepypasta.csv\n",
      "06/07/2020  01:45 PM             7,813 RS_2011-10_creepypasta.csv\n",
      "06/07/2020  01:46 PM             8,366 RS_2011-11_creepypasta.csv\n",
      "06/07/2020  01:47 PM           105,862 RS_2011-12_creepypasta.csv\n",
      "06/07/2020  01:49 PM           103,675 RS_2012-01_creepypasta.csv\n",
      "06/07/2020  01:50 PM            18,341 RS_2012-02_creepypasta.csv\n",
      "06/07/2020  01:52 PM            15,542 RS_2012-03_creepypasta.csv\n",
      "06/07/2020  01:53 PM            48,213 RS_2012-04_creepypasta.csv\n",
      "06/07/2020  01:55 PM           177,543 RS_2012-05_creepypasta.csv\n",
      "06/07/2020  01:57 PM           150,189 RS_2012-06_creepypasta.csv\n",
      "06/07/2020  01:59 PM           184,901 RS_2012-07_creepypasta.csv\n",
      "06/07/2020  02:01 PM           197,237 RS_2012-08_creepypasta.csv\n",
      "06/07/2020  02:02 PM           133,957 RS_2012-09_creepypasta.csv\n",
      "06/07/2020  02:03 PM           182,820 RS_2012-10_creepypasta.csv\n",
      "06/07/2020  02:05 PM            96,882 RS_2012-11_creepypasta.csv\n",
      "06/07/2020  02:06 PM           193,729 RS_2012-12_creepypasta.csv\n",
      "06/07/2020  02:07 PM           388,827 RS_2013-01_creepypasta.csv\n",
      "06/07/2020  02:08 PM           377,560 RS_2013-02_creepypasta.csv\n",
      "06/07/2020  02:09 PM           366,290 RS_2013-03_creepypasta.csv\n",
      "06/07/2020  02:11 PM           620,144 RS_2013-04_creepypasta.csv\n",
      "06/07/2020  02:13 PM           433,260 RS_2013-05_creepypasta.csv\n",
      "06/07/2020  02:16 PM           449,480 RS_2013-06_creepypasta.csv\n",
      "06/07/2020  02:19 PM           572,165 RS_2013-07_creepypasta.csv\n",
      "06/07/2020  02:22 PM           519,812 RS_2013-08_creepypasta.csv\n",
      "06/07/2020  02:26 PM           562,246 RS_2013-09_creepypasta.csv\n",
      "06/07/2020  02:29 PM           796,381 RS_2013-10_creepypasta.csv\n",
      "06/07/2020  02:33 PM           745,213 RS_2013-11_creepypasta.csv\n",
      "06/07/2020  02:37 PM           740,087 RS_2013-12_creepypasta.csv\n",
      "06/07/2020  02:42 PM           850,285 RS_2014-01_creepypasta.csv\n",
      "06/07/2020  02:46 PM           997,577 RS_2014-02_creepypasta.csv\n",
      "06/07/2020  02:50 PM         1,056,471 RS_2014-03_creepypasta.csv\n",
      "06/07/2020  02:54 PM         1,156,930 RS_2014-04_creepypasta.csv\n",
      "06/07/2020  02:58 PM         1,097,208 RS_2014-05_creepypasta.csv\n",
      "06/07/2020  03:01 PM         1,337,289 RS_2014-06_creepypasta.csv\n",
      "06/07/2020  03:05 PM         1,116,764 RS_2014-07_creepypasta.csv\n",
      "06/07/2020  03:09 PM         1,056,400 RS_2014-08_creepypasta.csv\n",
      "06/07/2020  03:14 PM           854,114 RS_2014-09_creepypasta.csv\n",
      "06/07/2020  03:18 PM         1,448,573 RS_2014-10_creepypasta.csv\n",
      "06/07/2020  03:23 PM           607,654 RS_2014-11_creepypasta.csv\n",
      "06/07/2020  03:27 PM           547,336 RS_2014-12_creepypasta.csv\n",
      "06/07/2020  03:29 PM           843,887 RS_2015-01_creepypasta.csv\n",
      "06/07/2020  03:31 PM           747,898 RS_2015-02_creepypasta.csv\n",
      "06/07/2020  03:33 PM           880,976 RS_2015-03_creepypasta.csv\n",
      "06/07/2020  03:35 PM           736,815 RS_2015-04_creepypasta.csv\n",
      "06/07/2020  03:37 PM           954,836 RS_2015-05_creepypasta.csv\n",
      "06/07/2020  03:39 PM           907,170 RS_2015-06_creepypasta.csv\n",
      "06/07/2020  03:42 PM         1,019,119 RS_2015-07_creepypasta.csv\n",
      "06/07/2020  03:45 PM         1,053,580 RS_2015-08_creepypasta.csv\n",
      "06/07/2020  03:47 PM           708,747 RS_2015-09_creepypasta.csv\n",
      "06/07/2020  03:49 PM           984,716 RS_2015-10_creepypasta.csv\n",
      "06/07/2020  03:52 PM           829,963 RS_2015-11_creepypasta.csv\n",
      "06/07/2020  03:54 PM           683,727 RS_2015-12_creepypasta.csv\n",
      "06/07/2020  03:57 PM           904,109 RS_2016-01_creepypasta.csv\n",
      "06/07/2020  03:59 PM           928,802 RS_2016-02_creepypasta.csv\n",
      "06/07/2020  04:01 PM           693,953 RS_2016-03_creepypasta.csv\n",
      "06/07/2020  04:04 PM           850,678 RS_2016-04_creepypasta.csv\n",
      "06/07/2020  04:08 PM           812,799 RS_2016-05_creepypasta.csv\n",
      "06/07/2020  04:11 PM         1,093,012 RS_2016-06_creepypasta.csv\n",
      "06/07/2020  04:15 PM         1,234,622 RS_2016-07_creepypasta.csv\n",
      "06/07/2020  04:19 PM         1,349,050 RS_2016-08_creepypasta.csv\n",
      "06/07/2020  04:23 PM         1,320,082 RS_2016-09_creepypasta.csv\n",
      "06/07/2020  04:27 PM         1,610,236 RS_2016-10_creepypasta.csv\n",
      "06/07/2020  04:32 PM         1,342,401 RS_2016-11_creepypasta.csv\n",
      "06/07/2020  04:35 PM         1,052,557 RS_2016-12_creepypasta.csv\n",
      "06/07/2020  04:45 PM         1,055,130 RS_2017-01_creepypasta.csv\n",
      "06/07/2020  04:57 PM         1,349,506 RS_2017-02_creepypasta.csv\n",
      "06/07/2020  05:08 PM         1,043,151 RS_2017-03_creepypasta.csv\n",
      "06/07/2020  05:19 PM         1,070,191 RS_2017-04_creepypasta.csv\n",
      "06/07/2020  05:31 PM           917,469 RS_2017-05_creepypasta.csv\n",
      "06/07/2020  05:43 PM           918,440 RS_2017-06_creepypasta.csv\n",
      "06/07/2020  05:50 PM         1,792,206 RS_2017-07_creepypasta.csv\n",
      "06/07/2020  06:02 PM         1,062,469 RS_2017-08_creepypasta.csv\n",
      "06/07/2020  06:14 PM         1,588,473 RS_2017-09_creepypasta.csv\n",
      "06/07/2020  06:25 PM         1,539,738 RS_2017-10_creepypasta.csv\n",
      "06/07/2020  06:32 PM         1,713,167 RS_2017-11_creepypasta.csv\n",
      "06/07/2020  06:39 PM         1,273,205 RS_2017-12_creepypasta.csv\n",
      "06/07/2020  06:47 PM         1,798,723 RS_2018-01_creepypasta.csv\n",
      "06/07/2020  06:55 PM         1,547,213 RS_2018-02_creepypasta.csv\n",
      "06/07/2020  07:04 PM         2,010,605 RS_2018-03_creepypasta.csv\n",
      "06/07/2020  07:18 PM         1,582,160 RS_2018-04_creepypasta.csv\n",
      "06/07/2020  07:34 PM         1,876,123 RS_2018-05_creepypasta.csv\n",
      "06/07/2020  07:48 PM         1,668,999 RS_2018-06_creepypasta.csv\n",
      "06/07/2020  08:04 PM         2,129,049 RS_2018-07_creepypasta.csv\n",
      "06/07/2020  08:21 PM         1,726,142 RS_2018-08_creepypasta.csv\n",
      "06/07/2020  08:27 PM         2,006,057 RS_2018-09_creepypasta.csv\n",
      "06/07/2020  08:35 PM         2,609,465 RS_2018-10_creepypasta.csv\n",
      "06/07/2020  08:46 PM         2,264,547 RS_2018-11_creepypasta.csv\n",
      "06/07/2020  09:02 PM         2,291,638 RS_2018-12_creepypasta.csv\n",
      "06/07/2020  09:18 PM         2,648,367 RS_2019-01_creepypasta.csv\n",
      "06/07/2020  09:35 PM         3,001,746 RS_2019-02_creepypasta.csv\n",
      "06/07/2020  09:57 PM         2,582,400 RS_2019-03_creepypasta.csv\n",
      "06/07/2020  10:20 PM         2,104,052 RS_2019-04_creepypasta.csv\n",
      "06/07/2020  10:43 PM         2,213,256 RS_2019-05_creepypasta.csv\n",
      "06/07/2020  11:04 PM         2,624,277 RS_2019-06_creepypasta.csv\n",
      "06/07/2020  11:26 PM         2,471,601 RS_2019-07_creepypasta.csv\n",
      "06/07/2020  11:52 PM         2,569,909 RS_2019-08_creepypasta.csv\n",
      "06/07/2020  01:21 PM            60,601 RS_2019-09-01_creepypasta.csv\n",
      "06/07/2020  01:21 PM            72,765 RS_2019-09-02_creepypasta.csv\n",
      "06/07/2020  01:21 PM            95,826 RS_2019-09-03_creepypasta.csv\n",
      "06/07/2020  01:21 PM            87,372 RS_2019-09-04_creepypasta.csv\n",
      "06/07/2020  01:22 PM            81,511 RS_2019-09-05_creepypasta.csv\n",
      "06/07/2020  01:22 PM            73,930 RS_2019-09-06_creepypasta.csv\n",
      "06/07/2020  01:22 PM            75,476 RS_2019-09-07_creepypasta.csv\n",
      "06/07/2020  01:22 PM            73,468 RS_2019-09-08_creepypasta.csv\n",
      "06/07/2020  01:23 PM            87,407 RS_2019-09-09_creepypasta.csv\n",
      "06/07/2020  01:23 PM           106,152 RS_2019-09-10_creepypasta.csv\n",
      "06/07/2020  01:23 PM            47,707 RS_2019-09-11_creepypasta.csv\n",
      "06/07/2020  01:23 PM           101,762 RS_2019-09-12_creepypasta.csv\n",
      "06/07/2020  01:24 PM            68,901 RS_2019-09-13_creepypasta.csv\n",
      "06/07/2020  01:24 PM            64,744 RS_2019-09-14_creepypasta.csv\n",
      "06/07/2020  01:24 PM            99,213 RS_2019-09-15_creepypasta.csv\n",
      "06/07/2020  01:25 PM            75,138 RS_2019-09-16_creepypasta.csv\n",
      "06/07/2020  01:25 PM            82,970 RS_2019-09-17_creepypasta.csv\n",
      "06/07/2020  01:25 PM            61,595 RS_2019-09-18_creepypasta.csv\n",
      "06/07/2020  01:26 PM           113,178 RS_2019-09-19_creepypasta.csv\n",
      "06/07/2020  01:26 PM            47,929 RS_2019-09-20_creepypasta.csv\n",
      "06/07/2020  01:26 PM            77,123 RS_2019-09-21_creepypasta.csv\n",
      "06/07/2020  01:27 PM            70,343 RS_2019-09-22_creepypasta.csv\n",
      "06/07/2020  01:27 PM           117,239 RS_2019-09-23_creepypasta.csv\n",
      "06/07/2020  01:27 PM            76,749 RS_2019-09-24_creepypasta.csv\n",
      "06/07/2020  01:27 PM           151,092 RS_2019-09-25_creepypasta.csv\n",
      "06/07/2020  01:28 PM            24,623 RS_2019-09-26_creepypasta.csv\n",
      "06/07/2020  01:28 PM            57,071 RS_2019-09-27_creepypasta.csv\n",
      "06/07/2020  01:28 PM            54,868 RS_2019-09-28_creepypasta.csv\n",
      "06/07/2020  01:29 PM            87,994 RS_2019-09-29_creepypasta.csv\n",
      "06/07/2020  01:29 PM            81,198 RS_2019-09-30_creepypasta.csv\n",
      "06/07/2020  01:29 PM            93,449 RS_2019-10-01_creepypasta.csv\n",
      "06/07/2020  01:29 PM           116,824 RS_2019-10-02_creepypasta.csv\n",
      "06/07/2020  01:30 PM            74,618 RS_2019-10-03_creepypasta.csv\n",
      "06/07/2020  01:30 PM            85,373 RS_2019-10-04_creepypasta.csv\n",
      "06/07/2020  01:30 PM            93,992 RS_2019-10-05_creepypasta.csv\n",
      "06/07/2020  01:31 PM            78,711 RS_2019-10-06_creepypasta.csv\n",
      "06/07/2020  01:31 PM            78,548 RS_2019-10-07_creepypasta.csv\n",
      "06/07/2020  01:31 PM            80,214 RS_2019-10-08_creepypasta.csv\n",
      "06/07/2020  01:32 PM           139,565 RS_2019-10-09_creepypasta.csv\n",
      "06/07/2020  01:32 PM           148,827 RS_2019-10-10_creepypasta.csv\n",
      "06/07/2020  01:32 PM            94,420 RS_2019-10-11_creepypasta.csv\n",
      "06/07/2020  01:32 PM            29,056 RS_2019-10-12_creepypasta.csv\n",
      "06/07/2020  01:33 PM           162,454 RS_2019-10-13_creepypasta.csv\n",
      "06/07/2020  01:33 PM            99,538 RS_2019-10-14_creepypasta.csv\n",
      "06/07/2020  01:33 PM           113,586 RS_2019-10-15_creepypasta.csv\n",
      "06/07/2020  01:34 PM            97,249 RS_2019-10-16_creepypasta.csv\n",
      "06/07/2020  01:34 PM           139,396 RS_2019-10-17_creepypasta.csv\n",
      "06/07/2020  01:34 PM           114,999 RS_2019-10-18_creepypasta.csv\n",
      "06/07/2020  01:35 PM           113,388 RS_2019-10-19_creepypasta.csv\n",
      "06/07/2020  01:35 PM           194,775 RS_2019-10-20_creepypasta.csv\n",
      "06/07/2020  01:35 PM            97,331 RS_2019-10-21_creepypasta.csv\n",
      "06/07/2020  01:36 PM            46,675 RS_2019-10-22_creepypasta.csv\n",
      "06/07/2020  01:36 PM           110,889 RS_2019-10-23_creepypasta.csv\n",
      "06/07/2020  01:36 PM           123,766 RS_2019-10-24_creepypasta.csv\n",
      "06/07/2020  01:37 PM           130,828 RS_2019-10-25_creepypasta.csv\n",
      "06/07/2020  01:37 PM            83,576 RS_2019-10-26_creepypasta.csv\n",
      "06/07/2020  01:37 PM            60,663 RS_2019-10-27_creepypasta.csv\n",
      "06/07/2020  01:38 PM            34,492 RS_2019-10-28_creepypasta.csv\n",
      "06/07/2020  01:38 PM           104,934 RS_2019-10-29_creepypasta.csv\n",
      "06/07/2020  01:38 PM           153,437 RS_2019-10-30_creepypasta.csv\n",
      "06/07/2020  01:39 PM           156,778 RS_2019-10-31_creepypasta.csv\n",
      "06/07/2020  01:39 PM           159,339 RS_2019-11-01_creepypasta.csv\n",
      "06/07/2020  01:39 PM            37,837 RS_2019-11-02_creepypasta.csv\n",
      "06/07/2020  01:40 PM            92,004 RS_2019-11-03_creepypasta.csv\n",
      "06/07/2020  01:40 PM           142,444 RS_2019-11-04_creepypasta.csv\n",
      "06/07/2020  01:41 PM           124,686 RS_2019-11-05_creepypasta.csv\n",
      "06/07/2020  01:41 PM            64,775 RS_2019-11-06_creepypasta.csv\n",
      "06/07/2020  01:41 PM            94,685 RS_2019-11-07_creepypasta.csv\n",
      "06/07/2020  01:42 PM            96,752 RS_2019-11-08_creepypasta.csv\n",
      "06/07/2020  01:42 PM            86,838 RS_2019-11-09_creepypasta.csv\n",
      "06/07/2020  01:42 PM            38,524 RS_2019-11-10_creepypasta.csv\n",
      "06/07/2020  01:43 PM            86,314 RS_2019-11-11_creepypasta.csv\n",
      "06/07/2020  01:43 PM            44,867 RS_2019-11-12_creepypasta.csv\n",
      "06/07/2020  01:44 PM            98,615 RS_2019-11-13_creepypasta.csv\n",
      "06/07/2020  01:44 PM            79,671 RS_2019-11-14_creepypasta.csv\n",
      "06/07/2020  01:44 PM            87,919 RS_2019-11-15_creepypasta.csv\n",
      "06/07/2020  01:45 PM            95,463 RS_2019-11-16_creepypasta.csv\n",
      "06/07/2020  01:45 PM           110,289 RS_2019-11-17_creepypasta.csv\n",
      "06/07/2020  01:45 PM            32,549 RS_2019-11-18_creepypasta.csv\n",
      "06/07/2020  01:46 PM            91,205 RS_2019-11-19_creepypasta.csv\n",
      "06/07/2020  01:46 PM            66,100 RS_2019-11-20_creepypasta.csv\n",
      "06/07/2020  01:46 PM            49,774 RS_2019-11-21_creepypasta.csv\n",
      "06/07/2020  01:47 PM           117,980 RS_2019-11-22_creepypasta.csv\n",
      "06/07/2020  01:47 PM            75,418 RS_2019-11-23_creepypasta.csv\n",
      "06/07/2020  01:47 PM           138,009 RS_2019-11-24_creepypasta.csv\n",
      "06/07/2020  01:48 PM            36,527 RS_2019-11-25_creepypasta.csv\n",
      "06/07/2020  01:48 PM            86,543 RS_2019-11-26_creepypasta.csv\n",
      "06/07/2020  01:49 PM            74,888 RS_2019-11-27_creepypasta.csv\n",
      "06/07/2020  01:49 PM            78,872 RS_2019-11-28_creepypasta.csv\n",
      "06/07/2020  01:49 PM            79,986 RS_2019-11-29_creepypasta.csv\n",
      "06/07/2020  01:50 PM            78,106 RS_2019-11-30_creepypasta.csv\n",
      "06/07/2020  01:50 PM            73,772 RS_2019-12-01_creepypasta.csv\n",
      "06/07/2020  01:50 PM            62,575 RS_2019-12-02_creepypasta.csv\n",
      "06/07/2020  01:51 PM            51,454 RS_2019-12-03_creepypasta.csv\n",
      "06/07/2020  01:51 PM            91,262 RS_2019-12-04_creepypasta.csv\n",
      "06/07/2020  01:52 PM            45,834 RS_2019-12-05_creepypasta.csv\n",
      "06/07/2020  01:52 PM            63,920 RS_2019-12-06_creepypasta.csv\n",
      "06/07/2020  01:52 PM            73,466 RS_2019-12-07_creepypasta.csv\n",
      "06/07/2020  01:53 PM            52,777 RS_2019-12-08_creepypasta.csv\n",
      "06/07/2020  01:53 PM           103,128 RS_2019-12-09_creepypasta.csv\n",
      "06/07/2020  01:53 PM            71,754 RS_2019-12-10_creepypasta.csv\n",
      "06/07/2020  01:54 PM            93,298 RS_2019-12-11_creepypasta.csv\n",
      "06/07/2020  01:54 PM            59,782 RS_2019-12-12_creepypasta.csv\n",
      "06/07/2020  01:54 PM            60,163 RS_2019-12-13_creepypasta.csv\n",
      "06/07/2020  01:55 PM           112,371 RS_2019-12-14_creepypasta.csv\n",
      "06/07/2020  01:55 PM            81,771 RS_2019-12-15_creepypasta.csv\n",
      "06/07/2020  01:56 PM            66,835 RS_2019-12-16_creepypasta.csv\n",
      "06/07/2020  01:56 PM           100,129 RS_2019-12-17_creepypasta.csv\n",
      "06/07/2020  01:56 PM            51,919 RS_2019-12-18_creepypasta.csv\n",
      "06/07/2020  01:57 PM            80,062 RS_2019-12-19_creepypasta.csv\n",
      "06/07/2020  01:57 PM            80,813 RS_2019-12-20_creepypasta.csv\n",
      "06/07/2020  01:57 PM            43,266 RS_2019-12-21_creepypasta.csv\n",
      "06/07/2020  01:58 PM           107,135 RS_2019-12-22_creepypasta.csv\n",
      "06/07/2020  01:58 PM            65,121 RS_2019-12-23_creepypasta.csv\n",
      "06/07/2020  01:58 PM            69,962 RS_2019-12-24_creepypasta.csv\n",
      "06/07/2020  01:59 PM            75,586 RS_2019-12-25_creepypasta.csv\n",
      "06/07/2020  01:59 PM            50,536 RS_2019-12-26_creepypasta.csv\n",
      "06/07/2020  01:59 PM            46,912 RS_2019-12-27_creepypasta.csv\n",
      "06/07/2020  02:00 PM           112,747 RS_2019-12-28_creepypasta.csv\n",
      "06/07/2020  02:00 PM            50,660 RS_2019-12-29_creepypasta.csv\n",
      "06/07/2020  02:01 PM            63,328 RS_2019-12-30_creepypasta.csv\n",
      "06/07/2020  02:01 PM           181,619 RS_2019-12-31_creepypasta.csv\n",
      "06/06/2020  09:04 AM        15,413,357 RS_2020_creepypasta.csv\n",
      "             296 File(s)    158,930,542 bytes\n",
      "               2 Dir(s)  192,682,504,192 bytes free\n"
     ]
    }
   ],
   "source": [
    "ls"
   ]
  },
  {
   "cell_type": "code",
   "execution_count": 3,
   "metadata": {},
   "outputs": [
    {
     "name": "stdout",
     "output_type": "stream",
     "text": [
      "C:\\Users\\harip\\Documents\\Uncanny Valley\\CreepyPasta\n"
     ]
    }
   ],
   "source": [
    "cd CreepyPasta"
   ]
  },
  {
   "cell_type": "code",
   "execution_count": 105,
   "metadata": {},
   "outputs": [
    {
     "data": {
      "text/plain": [
       "'I used to work at a small thrift store in my old home town when I was 19. I wasn\\'t actually interested in the job, but I needed some money to survive college. I was driving an old beat up 1983 BMW that my dad found off Craigslist and handed it over to me as my first car. He usually spoils me because I\\'m the only daughter. I\\'m also not really a car expert so that car didn\\'t last long and I ended up taking the bus and walking everywhere when it stopped working.\\n\\nObviously I got the job at the thrift store and joined a team of workers from different parts of life. There was this one 50 something guy, let\\'s call him \"jim\". He worked the donation area and sorted clothing and wares in the back for resale. We had a girl who worked the register, and two middle aged ladies that sort of bounce back between the sale floor and the back donation area. My manager stayed in the office or talked to our loyal customers that pop in every day. \\n\\nI was promoted to assistant manager in no time, probably because I was the most qualified. It\\'s not exactly easy work though. Sometimes we get people that steal clothes or wares, homeless that hang around in the back near the train tracks, and just awful people that dump large amounts of furniture in the morning that is in bad condition. \\n\\nOne morning, I let Jim take his first break. I was covering the back, and it was particularly a slow day of the week. As I step outside, a white truck drives up and stops in front of me. I peer through the driver window that was rolled down, and I see a middle aged man. He had a beard, scruffy hair, stocky build. Looked quite startled and he just gave me the strangest look.\\n\\n\"Hello!\" I said\\n\\nThe man looks at me, hands me this well worn brown purse through the window and says, \\n\\n\"Thanks\" \\n\\n\"Thank you for your donation. Did you need a receipt?\" I look at the purse, it feels empty and it\\'s not exactly a name brand one. Simple crossbody with a zipper opening. I\\'ll probably just set it aside for now. \\n\\nI look back and watch as the truck speeds off back onto the road and drive away. \\n\\nAt the time, I thought it was strange. Usually donations are in bulk and not just a single item. Especially in my town it was pretty common to see older folks dropping off items from relatives that passed away. I set the purse in the garbage because it probably won\\'t sell at all and continue sweeping the back room. \\n\\nLater that night, a police officer arrives at the store as I\\'m busy closing up the back donation area. He was talking to my manager and the girl at the register about a missing woman last seen in a shopping parking lot just a block away. The officer leaves before I get a chance to listen.\\n\\nBefore my manager leaves, I get informed about the police officer that warned us about the missing woman. Startled about the potential kidnapping, I recall the strange man and brown purse earlier in the morning. \\n\\nMy manager and I went to the back where I threw the purse in a large bin for garbage. I picked up the purse and it still felt empty, worn out and well used. \\n\\nI unzipped the main pouch to check inside and to my horror discover a clump of long brown hair rolled up inside the purse with a little bit of dried up skin. It did not take us long to call the police officer back to the store. \\n\\nThe purse was taken as evidence that night and we were escorted back home. \\n\\nI didn\\'t really hear anything about the case or if they did find that woman and man. But I quit that job after a few days when that incident happened. I always wanted to leave and this particular event sort of pushed me to leave. I became quite paranoid and always kept to public areas and main roads. Since then, I moved a few states away and only visit my family during the holidays. \\n\\nI wish I had a good look at the man, or heck maybe it\\'s good that I don\\'t know.'"
      ]
     },
     "execution_count": 105,
     "metadata": {},
     "output_type": "execute_result"
    }
   ],
   "source": [
    "csv = pd.read_csv(\"RS_2019-12-15_creepypasta.csv\")\n",
    "df = pd.DataFrame(csv)\n",
    "df.head(20)\n",
    "df['selftext'][14]"
   ]
  },
  {
   "cell_type": "code",
   "execution_count": 17,
   "metadata": {},
   "outputs": [],
   "source": [
    "doc = df['selftext'][1]\n",
    "splitdoc = doc.split(\".\")"
   ]
  },
  {
   "cell_type": "code",
   "execution_count": 55,
   "metadata": {},
   "outputs": [
    {
     "name": "stdout",
     "output_type": "stream",
     "text": [
      "34\n"
     ]
    }
   ],
   "source": [
    "print(len(df))"
   ]
  },
  {
   "cell_type": "code",
   "execution_count": 6,
   "metadata": {},
   "outputs": [
    {
     "name": "stdout",
     "output_type": "stream",
     "text": [
      "[['Barry', ',', 'didn', '’', 't', 'know', 'how', 'much', 'longer', 'he', 'could', 'continue', 'living', 'his', 'life', '.'], ['He', 'has', 'been', 'dealing', 'with', 'a', 'deep', 'depression', ',', 'one', 'which', 'pinned', 'the', 'thoughts', 'of', 'ending', 'himself', 'inside', 'of', 'his', 'mind', '.'], ['The', 'thoughts', 'circled', 'around', 'in', 'his', 'head', ',', 'but', 'barry', 'never', 'gave', 'in', '.'], ['He', 'knew', 'he', 'could', 'fight', 'back', ',', 'but', 'had', 'no', 'idea', 'why', 'he', 'was', 'fighting', 'back', '.'], ['So', 'Barry', 'set', 'out', 'to', 'see', 'a', 'psychic', '.'], ['He', 'didn', '’', 't', 'believe', 'in', 'that', 'kind', 'of', 'stuff', ',', 'but', 'thought', 'he', '’', 'd', 'give', 'it', 'a', 'try', '.'], ['He', 'thought', ',', 'maybe', 'he', 'could', 'get', 'some', 'good', 'news', 'for', 'once', '.'], ['He', 'worked', 'hard', 'to', 'get', 'his', 'life', 'together', ',', 'and', 'yearned', 'to', 'know', 'if', 'there', 'was', 'any', 'pay', 'off.Barry', 'walked', 'into', 'walked', 'into', 'the', 'psychic', '’', 's', 'office', ',', 'slowly', ',', 'looking', 'around', ',', 'marveling', 'at', 'the', 'different', 'relics', ',', 'and', 'totems', 'that', 'were', 'placed', 'around', 'her', 'office', '.'], ['“', 'I', 'knew', 'you', '’', 'd', 'come', '”', 'a', 'lady', 'said', 'walking', 'towards', 'Barry', '.'], ['“', 'I', '’', 'd', 'like', 'to', 'know', 'my', 'future', '”', 'Barry', 'said', ',', 'nervously', '.'], ['He', 'played', 'with', 'his', 'thumbs', ',', 'and', 'looked', 'down', ',', 'as', 'he', 'talked', 'to', 'this', 'lady', '.'], ['She', 'was', 'covered', 'from', 'head', 'to', 'toe', 'in', 'an', 'old', ',', 'ragged', 'cloak', ',', 'with', 'patterns', 'resembling', 'those', 'of', 'the', 'native', 'Americans', '.'], ['“', 'I', 'already', 'know', 'child', '.'], ['Take', 'the', 'money', 'out', 'of', 'your', 'left', 'pockets', ',', 'and', 'let', '’', 's', 'go', \"''\", 'she', 'said', 'walking', 'away', 'from', 'Barry', '.'], ['She', 'walked', ',', 'discreetly', ',', 'looking', 'at', 'each', 'totem', 'differently', ',', 'rubbing', 'her', 'hands', 'on', 'each', 'one', '.'], ['“', 'Turn', 'your', 'head', ',', 'child', '”', 'she', 'said', 'grabbing', 'onto', 'a', 'totem', 'off', 'a', 'higher', 'shelf.But', 'Barry', 'didn', '’', 't', 'listen', '.'], ['He', 'stared', 'at', 'her', 'from', 'the', 'corner', 'of', 'highs', ',', 'and', 'she', 'rubbed', 'the', 'totem', '.'], ['First', 'she', 'rubbed', 'it', 'softly', ',', 'then', ',', 'as', 'a', 'blue', 'aura', 'began', 'to', 'exit', 'the', 'totem', ',', 'she', 'rubbed', 'it', 'harder', ',', 'until', 'the', 'aura', 'manifested', 'itself', 'into', 'a', 'demonic', 'looking', 'creature', '.'], ['It', 'didn', '’', 't', 'look', 'like', 'anything', 'Barry', 'had', 'ever', 'seen', 'before', '.'], ['It', 'was', 'a', 'hairy', ',', 'brown', 'creature', ',', 'that', 'stood', 'on', '2', 'legs', 'like', 'a', 'human', ',', 'but', 'with', 'horse', 'hooves', '.'], ['Where', 'its', 'eyes', ',', 'and', 'mouth', 'should', 'have', 'been', ',', 'where', 'only', 'stitches', ',', 'and', 'scars', '.'], ['Around', 'its', 'torso', ',', 'was', 'a', 'rope', 'that', 'looked', 'to', 'tie', 'something', 'around', 'it', '’', 's', 'back', '.'], ['It', 'stood', 'hunched', 'over', 'the', 'psychic', ',', 'with', 'its', 'ears', 'sticking', 'out', ',', 'listening', 'carefully', '.'], ['“', 'Fly', 'to', 'the', 'Angel', '’', 's', ',', 'find', 'out', 'what', 'Mr.', 'Barrys', 'future', 'holds', '!', '”', 'she', 'said', ',', 'sternly', ',', 'and', 'forcefully', '.'], ['The', 'being', 'only', 'responded', 'by', 'stomping', 'its', 'feet', 'onto', 'the', 'ground', '.'], ['Its', 'hands', 'fidgeted', 'with', 'the', 'ropes', ',', 'tied', 'around', 'him.', '“', 'Be', 'patient', \"''\", 'the', 'psychic', 'said', 'as', 'she', 'quickly', 'loosened', 'the', 'ties', 'of', 'the', 'ropes2', ',', 'brown', ',', 'angelic', 'wings', ',', 'extended', 'from', 'the', 'beings', 'back', '.'], ['It', 'didn', '’', 't', 'stay', 'in', 'the', 'office', 'for', 'long', ',', 'as', 'soon', 'as', 'its', 'wings', 'were', 'free', ',', 'it', 'burst', 'through', 'the', 'nearest', 'open', 'window', '.'], ['The', 'psychic', 'ran', 'to', 'her', 'desk', ',', 'and', 'messed', 'around', 'with', 'her', 'drawers', ',', 'until', 'she', 'pulled', 'out', 'a', 'purple', 'drink', 'inside', 'of', 'a', 'plastic', 'bottle', 'that', 'seemed', 'to', 'be', 'used', 'before.', '“', 'Hurry', ',', 'drink', 'this', '”', 'she', 'said', 'handing', 'the', 'bottles', 'towards', 'Barry', 'Barry', 'only', 'responded', 'with', 'a', 'loom', 'of', 'disgust', ',', 'refusing', 'to', 'drink.', '“', 'HURRY', '!', '!'], ['!', '”', 'She', 'screamed', 'at', 'the', 'top', 'of', 'her', 'lungs', '.'], ['Barry', ',', 'already', 'scared', 'from', 'what', 'he', 'saw', ',', 'was', 'even', 'more', 'scared', 'of', 'her', 'now', '.'], ['He', 'quickly', 'grabbed', 'the', 'drink', ',', 'and', 'chugged', 'it', 'as', 'fast', 'as', 'he', 'could', '.'], ['“', 'Whoa', 'where', 'am', 'I', \"''\", 'Barry', 'said', ',', 'looking', 'around', 'as', 'much', 'as', 'he', 'could', '.'], ['He', 'was', 'in', 'the', 'mind', 'of', 'the', 'creature', ',', 'that', 'the', 'psychic', 'had', 'summoned', '.'], ['They', 'flew', 'around', ',', 'in', 'the', 'dark', 'skies', ',', 'as', 'if', 'the', 'beast', 'was', 'searching', 'for', 'something', '.'], ['They', 'flew', 'from', 'star', 'to', 'star', ',', 'staring', 'out', 'into', 'the', 'distance', '.'], ['The', 'beast', 'continued', 'doing', 'this', 'a', 'couple', 'of', 'times', ',', 'until', 'a', 'white', 'light', 'was', 'visible', '.'], ['The', 'beast', 'towards', 'the', 'white', 'light', 'as', 'fast', 'as', 'he', 'could', '.'], ['Slowly', ',', 'Barry', 'vision', 'began', 'to', 'become', 'blinded', ',', 'and', 'he', 'could', 'only', 'hear', 'what', 'was', 'going', 'on', '.'], ['Soft', 'voices', 'started', 'to', 'speak', 'around', 'them', '.'], ['It', 'sounded', 'as', 'if', '1', 'million', 'different', 'beings', 'were', 'speaking', 'at', 'the', 'same', 'time', '.'], ['Barry', 'couldn', '’', 't', 'make', 'out', 'anything', 'that', 'was', 'being', 'said', ',', 'but', 'the', 'beast', 'seemed', 'to', 'focus', 'himself', 'in', 'a', 'single', 'direction.', '“', 'Barry', 'will', 'finally', 'be', 'happy', '.'], ['He', 'will', 'marry', 'the', 'girl', 'April', ',', 'the', 'one', 'hes', 'always', 'loved', '.'], ['He', 'will', 'work', 'with', 'her', 'designing', 'different', 'clothing', ',', 'and', 'become', 'one', 'of', 'the', 'wealthiest', 'men', 'ever', ',', 'but', 'his', 'generosity', 'will', 'gain', 'him', 'the', 'adoration', 'of', 'millions', '”', 'the', 'continued', 'to', 'speak.The', 'beings', 'were', 'angel', '.'], ['They', 'spoke', 'about', 'different', 'humans', 'futures', ',', 'and', 'the', 'beast', 'searched', 'for', 'the', 'one', 'speaking', 'about', 'Barry', '.'], ['The', 'beast', 'heard', 'every', 'word', ',', 'and', 'wrote', 'it', 'down', 'inside', 'of', 'a', 'notepad.', ',', 'but', 'Barry', 'couldn', '’', 't', 'make', 'out', 'a', 'word', 'from', 'any', 'of', 'them', '.'], ['Once', 'the', 'Beast', 'was', 'finished', ',', 'he', 'flew', 'back', 'down', 'to', 'the', 'pyshichs', 'office', ',', 'where', 'Barry', 'regained', 'his', 'consciousness', ',', 'inside', 'of', 'his', 'own', 'body.', '“', 'What', 'happened', '?'], ['Why', 'was', 'I', 'in', 'the', 'heavens', '?', '”', 'Barry', 'said', 'to', 'the', 'psychicThe', 'psychic', 'ignored', 'him', '.'], ['She', 'only', 'read', 'of', 'the', 'notepad', 'the', 'beast', 'wrote', ',', 'the', 'whole', 'time', 'shaking', 'her', 'head', 'in', 'disappointed', '.'], ['“', 'What', 'is', 'it', '?', '”', 'Barry', 'said', 'curiously', '.'], ['“', 'Oh', 'no', ',', 'oh', 'no', \"''\", 'the', 'psychic', 'said', ',', 'petting', 'the', 'beasts', 'fur', '.'], ['The', 'beast', 'stomped', 'its', 'hooves.', '“', 'Her', 'take', 'your', 'treat', '”', 'the', 'psychic', 'fed', 'the', 'beast', 'a', 'bloodied', 'leg', '.'], ['The', 'beast', 'disappeared', 'back', 'inside', 'of', 'the', 'totem', ',', 'taking', 'the', 'leg', 'with', 'it.', '“', 'What', 'is', 'it', '?', '”', 'Barry', 'asked', 'again', '.'], ['“', 'You', 'have', 'a', 'friend', 'named', 'April', '?', '”', 'the', 'psychic', 'asked', 'Barry', '“', 'Well…', 'I', 'know', 'her', ',', 'and', 'like', 'her', '.'], ['Why', '?', '”', 'Barry', 'responded', 'The', 'psychic', 'shook', 'her', 'head', 'at', 'Barry', '“', 'Stay', 'away', 'from', 'her', 'if', 'you', 'care', 'for', 'you', 'life', '.'], ['You', 'must', 'never', 'work', 'for', 'her', '.'], ['Shes', 'only', 'here', 'to', 'manipulate', 'you', ',', 'you', 'hear', '?', '”', 'she', 'said', 'seemingly', 'concerned', 'for', 'Barry', '’', 's', 'future', '.'], ['Barry', 'held', 'his', 'hand', 'against', 'his', 'chest', ',', 'as', 'if', 'something', 'broke', 'inside.', '“', 'I', 'love', 'her', '”', 'he', 'said', 'falling', 'to', 'the', 'floor.His', 'depression', 'levels', 'began', 'rising', '.'], ['Thoughts', 'about', 'ending', 'himself', 'raced', 'through', 'his', 'held', '.'], ['The', 'psychics', 'convincing', 'acting', ',', 'made', 'Barry', 'forget', 'he', 'didn', '’', 't', 'believe', 'in', 'this', 'stuff', ',', 'and', 'instead', 'she', 'made', 'her', 'way', 'inside', 'of', 'his', 'head', ',', 'and', 'fed', 'it', 'different', 'lies', '.'], ['The', 'psychic', 'smiled', ',', 'out', 'of', 'Barry', '’', 's', 'view.', '“', 'Your', 'boss', 'will', 'fire', 'you', 'tomorrow', '”', 'the', 'psychic', 'said', 'holding', 'the', 'notepad', 'in', 'front', 'of', 'her', 'face.', '“', 'No', ',', 'no', ',', 'I', 'will', 'be', 'homeless', '”', 'Barry', 'said', 'falling', 'on', 'to', 'his', 'back', '.'], ['Barry', 'stared', 'at', 'the', 'ceiling', 'wondering', 'what', 'the', 'point', 'of', 'living', 'was', 'at', 'this', 'moment', '.'], ['“', 'Don', '’', 't', 'worry', 'child', ',', 'you', 'can', 'work', 'for', 'me', ',', 'if', 'you', 'need', 'a', 'job', '.'], ['You', 'can', 'work', 'for', 'me', ',', 'if', 'you', 'are', 'a', 'lost', 'soul', '”', 'she', 'said', 'rubbing', 'her', 'hands', 'across', 'each', 'of', 'the', 'totems', '.'], ['Barry', 'didn', '’', 't', 'respond', ',', 'he', 'couldn', '’', 't', 'at', 'this', 'point.', '“', 'Inside', 'each', 'of', 'these', 'totems', ',', 'was', 'a', 'life', ',', 'a', 'hopeless', 'life', ',', 'just', 'like', 'yours', '.'], ['Now', 'they', 'have', 'a', 'purpose', ',', 'serving', 'me', '.'], ['Join', 'us', ',', 'Barry', \"''\", 'she', 'said', 'kneeling', 'towards', 'barry', 'with', 'another', 'drink', 'in', 'hand', '.'], ['“', 'Stop', ',', 'stop', '!', '”', 'barry', 'said', 'trying', 'to', 'squirm', 'away', 'from', 'the', 'psychic', 'with', 'the', 'little', 'strength', 'he', 'had', 'left.The', 'psychic', 'was', 'trying', 'to', 'force', 'the', 'drink', 'inside', 'of', 'Barry', '’', 's', 'mouth', '.'], ['“', 'April', 'doesn', '’', 't', 'want', 'you', '.'], ['Your', 'boss', 'doesn', '’', 't', 'want', 'you', '”', 'the', 'psychic', 'said', 'tricking', 'Barry', 'into', 'losing', 'hope', 'again', '.'], ['It', 'worked', ',', 'Barry', 'gave', 'in', '.'], ['The', 'drink', 'was', 'inserted', 'directly', 'into', 'Barry', '’', 's', 'mouth', '.'], ['“', 'Wh…', 'wh..', '”', 'Barry', 'said', 'struggling', 'to', 'speak', ',', 'but', 'what', 'was', 'once', 'words', 'that', 'left', 'Barry', '’', 's', 'mouth', ',', 'became', 'loud', 'roars', '.'], ['Brown', 'hair', 'started', 'to', 'grow', 'off', 'of', 'Barry', '’', 's', 'skin.', '“', 'Your', 'transformation', 'will', 'take', 'a', 'while', '.'], ['Enter', 'this', 'totem', '”', 'the', 'psychic', 'said', ',', 'holding', 'up', 'an', 'object', 'with', 'out', 'any', 'patterns', ',', 'or', 'color', '.'], ['Barry', 'was', 'slowly', 'sucked', 'inside', 'of', 'the', 'object', '.'], ['The', 'object', 'turned', 'into', 'a', 'bright', 'yellow', ',', 'and', 'different', 'patterns', 'formed', 'on', 'the', 'object.', '“', 'All', 'finished', ',', 'next', 'customer', ',', 'please', '”', 'the', 'psychic', 'said', 'opening', 'her', 'front', 'door.', '“', 'Come', 'in', 'April', ',', 'don', '’', 't', 'be', 'shy', \"''\", 'the', 'psychic', 'said', '.']]\n"
     ]
    }
   ],
   "source": [
    "doc = doc.replace(\"\\r\",\"\")\n",
    "doc = doc.replace(\"\\n\",\"\")\n",
    "doc = doc.replace(\"'\",\"\")\n",
    "sentences = [nltk.word_tokenize(sent) for sent in nltk.sent_tokenize(doc)]\n",
    "print(sentences)"
   ]
  },
  {
   "cell_type": "code",
   "execution_count": 99,
   "metadata": {},
   "outputs": [
    {
     "name": "stdout",
     "output_type": "stream",
     "text": [
      "['Barry', ',', 'didn', '’', 't', 'know', 'he', 'could', 'his', 'life', '.', 'He', 'with', 'a', 'one', 'the', 'of', 'inside', 'The', 'around', 'in', 'head', 'but', 'back', 'was', 'out', 'to', 'psychic', 'that', 'it', 'for', 'and', 'if', 'into', 's', 'at', 'different', 'her', '“', 'I', 'you', '”', 'said', 'like', 'as', 'this', 'from', \"''\", 'she', 'totem', 'on', 'It', 'its', 'only', 'what', '!', 'drink', 'beast', 'will', '?']\n"
     ]
    }
   ],
   "source": [
    "model = Word2Vec(sentences)\n",
    "words = list(model.wv.vocab)\n",
    "print(words)"
   ]
  },
  {
   "cell_type": "code",
   "execution_count": 39,
   "metadata": {},
   "outputs": [
    {
     "name": "stderr",
     "output_type": "stream",
     "text": [
      "C:\\Users\\harip\\Anaconda3\\lib\\site-packages\\ipykernel_launcher.py:1: DeprecationWarning: Call to deprecated `__getitem__` (Method will be removed in 4.0.0, use self.wv.__getitem__() instead).\n",
      "  \"\"\"Entry point for launching an IPython kernel.\n"
     ]
    },
    {
     "data": {
      "text/plain": [
       "array([ 4.1192314e-03, -3.0892391e-03, -3.0522132e-03, -2.4210389e-03,\n",
       "       -3.6806546e-03, -3.3488299e-03,  2.6022748e-03,  1.9602934e-04,\n",
       "       -1.2926521e-03,  5.1707346e-03,  1.9249885e-04, -3.1824852e-03,\n",
       "        8.0639857e-04,  3.2515698e-03, -3.1705608e-03,  6.2075048e-04,\n",
       "       -1.4085587e-03,  1.8970703e-03, -4.8121638e-04,  9.1846124e-04,\n",
       "        1.1122969e-03,  2.0834482e-03,  6.1612786e-04, -3.5859281e-03,\n",
       "        2.2402036e-03, -2.5221466e-03, -3.4950013e-04, -3.5233170e-04,\n",
       "        4.4778725e-03, -2.6250037e-03, -8.5495604e-04, -5.2483403e-04,\n",
       "       -3.0027982e-03, -3.5037196e-03, -4.8062210e-03,  3.5590723e-03,\n",
       "        3.7618866e-04, -3.4346438e-03,  5.4545782e-04,  4.1818796e-03,\n",
       "        2.7662776e-03, -1.8045615e-04,  3.6068778e-03,  3.9779684e-03,\n",
       "        3.6577806e-03,  1.3048198e-03, -1.9308546e-03, -1.7371611e-03,\n",
       "        1.8267456e-04, -3.1674323e-03, -5.0187432e-03,  5.1037367e-03,\n",
       "        1.9469979e-03,  1.0968725e-03, -3.7825550e-03, -7.8413851e-04,\n",
       "        4.0439819e-04, -4.5054187e-03, -9.0268947e-04, -3.2790070e-03,\n",
       "       -2.9643015e-03, -2.6779878e-04,  1.8077793e-03,  2.9024996e-03,\n",
       "        2.5943716e-03, -1.7813509e-03, -1.1855832e-03, -6.8598217e-04,\n",
       "       -6.3867756e-04,  5.0255964e-03,  1.5300387e-03, -4.1355100e-03,\n",
       "       -9.2585845e-04,  1.9874542e-04,  2.7002899e-03,  8.7690493e-04,\n",
       "       -1.7627669e-03, -5.3178896e-03,  3.7770635e-03, -2.2625556e-04,\n",
       "       -3.9441506e-03, -4.0373355e-03,  1.4553299e-04,  2.0120095e-03,\n",
       "       -3.2888721e-03,  2.4093834e-03, -4.0545650e-03, -8.1196491e-04,\n",
       "       -2.0150153e-03, -4.3907836e-03, -4.0761735e-03, -1.6953014e-03,\n",
       "       -2.3405482e-03,  1.4703216e-03,  1.4569949e-03, -4.3612462e-03,\n",
       "       -4.1284463e-03,  1.0625471e-03, -1.9922257e-04, -2.2146965e-05],\n",
       "      dtype=float32)"
      ]
     },
     "execution_count": 39,
     "metadata": {},
     "output_type": "execute_result"
    }
   ],
   "source": [
    "model['what']"
   ]
  },
  {
   "cell_type": "code",
   "execution_count": 44,
   "metadata": {},
   "outputs": [
    {
     "name": "stderr",
     "output_type": "stream",
     "text": [
      "C:\\Users\\harip\\Anaconda3\\lib\\site-packages\\ipykernel_launcher.py:2: DeprecationWarning: Call to deprecated `__getitem__` (Method will be removed in 4.0.0, use self.wv.__getitem__() instead).\n",
      "  \n"
     ]
    }
   ],
   "source": [
    "# code to visualize\n",
    "X = model[model.wv.vocab]\n",
    "from sklearn.decomposition import PCA\n",
    "pca = PCA(n_components=2)\n",
    "result = pca.fit_transform(X)"
   ]
  },
  {
   "cell_type": "code",
   "execution_count": 50,
   "metadata": {},
   "outputs": [
    {
     "data": {
      "image/png": "[encoded data removed]",
      "text/plain": [
       "<Figure size 432x288 with 1 Axes>"
      ]
     },
     "metadata": {
      "needs_background": "light"
     },
     "output_type": "display_data"
    }
   ],
   "source": [
    "##Visualizing the word embeddings of all the words\n",
    "import matplotlib.pyplot as plt\n",
    "plt.scatter(result[:,0],result[:,1])\n",
    "words = list(model.wv.vocab)\n",
    "for i, word in enumerate(words):\n",
    "    plt.annotate(word, xy=(result[i,0], result[i,1]))"
   ]
  },
  {
   "cell_type": "markdown",
   "metadata": {},
   "source": [
    "## Vector Similarity "
   ]
  },
  {
   "cell_type": "code",
   "execution_count": null,
   "metadata": {},
   "outputs": [],
   "source": [
    "# from sklearn.feature_extraction.text import TfidfVectorizer\n",
    "# vect = TfidfVectorizer(min_df=1,stop_words='english')\n",
    "# tfidf = vect.fit_transform(splitdoc)\n",
    "# similarity = tfidf * tfidf.T\n",
    "# for s in similarity:\n",
    "#     print(s)"
   ]
  },
  {
   "cell_type": "code",
   "execution_count": 8,
   "metadata": {},
   "outputs": [],
   "source": [
    "from sklearn.metrics.pairwise import cosine_similarity\n",
    "def get_cosine_similarity(feature_vec_1, feature_vec_2):    \n",
    "    return cosine_similarity(feature_vec_1.reshape(1, -1), feature_vec_2.reshape(1, -1))[0][0]\n",
    "# get_cosine_similarity(new_model[words[5]].reshape(1,-1),new_model[words[7]].reshape(1,-1))"
   ]
  },
  {
   "cell_type": "code",
   "execution_count": null,
   "metadata": {},
   "outputs": [],
   "source": []
  },
  {
   "cell_type": "code",
   "execution_count": 92,
   "metadata": {},
   "outputs": [
    {
     "name": "stderr",
     "output_type": "stream",
     "text": [
      "C:\\Users\\harip\\Anaconda3\\lib\\site-packages\\ipykernel_launcher.py:1: DeprecationWarning: Call to deprecated `__getitem__` (Method will be removed in 4.0.0, use self.wv.__getitem__() instead).\n",
      "  \"\"\"Entry point for launching an IPython kernel.\n"
     ]
    },
    {
     "data": {
      "text/plain": [
       "0.8746416"
      ]
     },
     "execution_count": 92,
     "metadata": {},
     "output_type": "execute_result"
    }
   ],
   "source": [
    "get_cosine_similarity(new_model['scary'].reshape(1,-1),new_model['creepy'].reshape(1,-1))"
   ]
  },
  {
   "cell_type": "markdown",
   "metadata": {},
   "source": [
    "# Across all Docs"
   ]
  },
  {
   "cell_type": "code",
   "execution_count": 63,
   "metadata": {},
   "outputs": [],
   "source": [
    "import os\n",
    "total_sentences = []\n",
    "for file in os.listdir(os.getcwd()):\n",
    "    csv_file = pd.read_csv(file)\n",
    "    df1 = pd.DataFrame(csv_file)\n",
    "#     doc = df1['selftext']\n",
    "    for i in range(len(df1)):\n",
    "        try:\n",
    "            doc = df1['selftext'][i]\n",
    "            sentences = [nltk.word_tokenize(sent) for sent in nltk.sent_tokenize(doc)]\n",
    "            for s in sentences:\n",
    "                total_sentences.append(s)\n",
    "        except (KeyError, TypeError) as e:\n",
    "            continue"
   ]
  },
  {
   "cell_type": "code",
   "execution_count": 64,
   "metadata": {},
   "outputs": [
    {
     "name": "stderr",
     "output_type": "stream",
     "text": [
      "IOPub data rate exceeded.\n",
      "The notebook server will temporarily stop sending output\n",
      "to the client in order to avoid crashing it.\n",
      "To change this limit, set the config variable\n",
      "`--NotebookApp.iopub_data_rate_limit`.\n",
      "\n",
      "Current values:\n",
      "NotebookApp.iopub_data_rate_limit=1000000.0 (bytes/sec)\n",
      "NotebookApp.rate_limit_window=3.0 (secs)\n",
      "\n"
     ]
    }
   ],
   "source": [
    "print(total_sentences)"
   ]
  },
  {
   "cell_type": "code",
   "execution_count": 70,
   "metadata": {},
   "outputs": [],
   "source": [
    "model = Word2Vec(total_sentences)"
   ]
  },
  {
   "cell_type": "code",
   "execution_count": 71,
   "metadata": {},
   "outputs": [],
   "source": [
    "model.save('xxxxxxmodel.bin') #so as to not accidentally replace model.bin"
   ]
  },
  {
   "cell_type": "code",
   "execution_count": 6,
   "metadata": {},
   "outputs": [
    {
     "name": "stdout",
     "output_type": "stream",
     "text": [
      "Word2Vec(vocab=48172, size=100, alpha=0.025)\n"
     ]
    }
   ],
   "source": [
    "new_model = Word2Vec.load('model.bin')\n",
    "print(new_model)"
   ]
  },
  {
   "cell_type": "code",
   "execution_count": 74,
   "metadata": {},
   "outputs": [
    {
     "name": "stderr",
     "output_type": "stream",
     "text": [
      "C:\\Users\\harip\\Anaconda3\\lib\\site-packages\\ipykernel_launcher.py:2: DeprecationWarning: Call to deprecated `__getitem__` (Method will be removed in 4.0.0, use self.wv.__getitem__() instead).\n",
      "  \n",
      "C:\\Users\\harip\\Anaconda3\\lib\\site-packages\\matplotlib\\backends\\backend_agg.py:211: RuntimeWarning: Glyph 10794 missing from current font.\n",
      "  font.set_text(s, 0.0, flags=flags)\n",
      "C:\\Users\\harip\\Anaconda3\\lib\\site-packages\\matplotlib\\backends\\backend_agg.py:176: RuntimeWarning: Glyph 10794 missing from current font.\n",
      "  font.load_char(ord(s), flags=flags)\n",
      "C:\\Users\\harip\\Anaconda3\\lib\\site-packages\\matplotlib\\backends\\backend_agg.py:211: RuntimeWarning: Glyph 55357 missing from current font.\n",
      "  font.set_text(s, 0.0, flags=flags)\n",
      "C:\\Users\\harip\\Anaconda3\\lib\\site-packages\\matplotlib\\backends\\backend_agg.py:211: RuntimeWarning: Glyph 56832 missing from current font.\n",
      "  font.set_text(s, 0.0, flags=flags)\n",
      "C:\\Users\\harip\\Anaconda3\\lib\\site-packages\\matplotlib\\backends\\backend_agg.py:211: RuntimeWarning: Glyph 56911 missing from current font.\n",
      "  font.set_text(s, 0.0, flags=flags)\n",
      "C:\\Users\\harip\\Anaconda3\\lib\\site-packages\\matplotlib\\backends\\backend_agg.py:176: RuntimeWarning: Glyph 128591 missing from current font.\n",
      "  font.load_char(ord(s), flags=flags)\n",
      "C:\\Users\\harip\\Anaconda3\\lib\\site-packages\\matplotlib\\backends\\backend_agg.py:211: RuntimeWarning: Glyph 56898 missing from current font.\n",
      "  font.set_text(s, 0.0, flags=flags)\n",
      "C:\\Users\\harip\\Anaconda3\\lib\\site-packages\\matplotlib\\backends\\backend_agg.py:176: RuntimeWarning: Glyph 128578 missing from current font.\n",
      "  font.load_char(ord(s), flags=flags)\n",
      "C:\\Users\\harip\\Anaconda3\\lib\\site-packages\\matplotlib\\backends\\backend_agg.py:211: RuntimeWarning: Glyph 56834 missing from current font.\n",
      "  font.set_text(s, 0.0, flags=flags)\n",
      "C:\\Users\\harip\\Anaconda3\\lib\\site-packages\\matplotlib\\backends\\backend_agg.py:211: RuntimeWarning: Glyph 56567 missing from current font.\n",
      "  font.set_text(s, 0.0, flags=flags)\n",
      "C:\\Users\\harip\\Anaconda3\\lib\\site-packages\\matplotlib\\backends\\backend_agg.py:176: RuntimeWarning: Glyph 128247 missing from current font.\n",
      "  font.load_char(ord(s), flags=flags)\n",
      "C:\\Users\\harip\\Anaconda3\\lib\\site-packages\\matplotlib\\backends\\backend_agg.py:211: RuntimeWarning: Glyph 55349 missing from current font.\n",
      "  font.set_text(s, 0.0, flags=flags)\n",
      "C:\\Users\\harip\\Anaconda3\\lib\\site-packages\\matplotlib\\backends\\backend_agg.py:211: RuntimeWarning: Glyph 56975 missing from current font.\n",
      "  font.set_text(s, 0.0, flags=flags)\n",
      "C:\\Users\\harip\\Anaconda3\\lib\\site-packages\\matplotlib\\backends\\backend_agg.py:211: RuntimeWarning: Glyph 56978 missing from current font.\n",
      "  font.set_text(s, 0.0, flags=flags)\n",
      "C:\\Users\\harip\\Anaconda3\\lib\\site-packages\\matplotlib\\backends\\backend_agg.py:211: RuntimeWarning: Glyph 56981 missing from current font.\n",
      "  font.set_text(s, 0.0, flags=flags)\n",
      "C:\\Users\\harip\\Anaconda3\\lib\\site-packages\\matplotlib\\backends\\backend_agg.py:211: RuntimeWarning: Glyph 56974 missing from current font.\n",
      "  font.set_text(s, 0.0, flags=flags)\n",
      "C:\\Users\\harip\\Anaconda3\\lib\\site-packages\\matplotlib\\backends\\backend_agg.py:211: RuntimeWarning: Glyph 56973 missing from current font.\n",
      "  font.set_text(s, 0.0, flags=flags)\n",
      "C:\\Users\\harip\\Anaconda3\\lib\\site-packages\\matplotlib\\backends\\backend_agg.py:180: RuntimeWarning: Glyph 55349 missing from current font.\n",
      "  font.set_text(s, 0, flags=flags)\n",
      "C:\\Users\\harip\\Anaconda3\\lib\\site-packages\\matplotlib\\backends\\backend_agg.py:180: RuntimeWarning: Glyph 56975 missing from current font.\n",
      "  font.set_text(s, 0, flags=flags)\n",
      "C:\\Users\\harip\\Anaconda3\\lib\\site-packages\\matplotlib\\backends\\backend_agg.py:180: RuntimeWarning: Glyph 56978 missing from current font.\n",
      "  font.set_text(s, 0, flags=flags)\n",
      "C:\\Users\\harip\\Anaconda3\\lib\\site-packages\\matplotlib\\backends\\backend_agg.py:180: RuntimeWarning: Glyph 56981 missing from current font.\n",
      "  font.set_text(s, 0, flags=flags)\n",
      "C:\\Users\\harip\\Anaconda3\\lib\\site-packages\\matplotlib\\backends\\backend_agg.py:180: RuntimeWarning: Glyph 56974 missing from current font.\n",
      "  font.set_text(s, 0, flags=flags)\n",
      "C:\\Users\\harip\\Anaconda3\\lib\\site-packages\\matplotlib\\backends\\backend_agg.py:180: RuntimeWarning: Glyph 56973 missing from current font.\n",
      "  font.set_text(s, 0, flags=flags)\n",
      "C:\\Users\\harip\\Anaconda3\\lib\\site-packages\\matplotlib\\backends\\backend_agg.py:211: RuntimeWarning: Glyph 56982 missing from current font.\n",
      "  font.set_text(s, 0.0, flags=flags)\n",
      "C:\\Users\\harip\\Anaconda3\\lib\\site-packages\\matplotlib\\backends\\backend_agg.py:211: RuntimeWarning: Glyph 56994 missing from current font.\n",
      "  font.set_text(s, 0.0, flags=flags)\n",
      "C:\\Users\\harip\\Anaconda3\\lib\\site-packages\\matplotlib\\backends\\backend_agg.py:180: RuntimeWarning: Glyph 56982 missing from current font.\n",
      "  font.set_text(s, 0, flags=flags)\n",
      "C:\\Users\\harip\\Anaconda3\\lib\\site-packages\\matplotlib\\backends\\backend_agg.py:180: RuntimeWarning: Glyph 56994 missing from current font.\n",
      "  font.set_text(s, 0, flags=flags)\n",
      "C:\\Users\\harip\\Anaconda3\\lib\\site-packages\\matplotlib\\backends\\backend_agg.py:211: RuntimeWarning: Glyph 56971 missing from current font.\n",
      "  font.set_text(s, 0.0, flags=flags)\n",
      "C:\\Users\\harip\\Anaconda3\\lib\\site-packages\\matplotlib\\backends\\backend_agg.py:211: RuntimeWarning: Glyph 56984 missing from current font.\n",
      "  font.set_text(s, 0.0, flags=flags)\n",
      "C:\\Users\\harip\\Anaconda3\\lib\\site-packages\\matplotlib\\backends\\backend_agg.py:180: RuntimeWarning: Glyph 56971 missing from current font.\n",
      "  font.set_text(s, 0, flags=flags)\n",
      "C:\\Users\\harip\\Anaconda3\\lib\\site-packages\\matplotlib\\backends\\backend_agg.py:180: RuntimeWarning: Glyph 56984 missing from current font.\n",
      "  font.set_text(s, 0, flags=flags)\n",
      "C:\\Users\\harip\\Anaconda3\\lib\\site-packages\\matplotlib\\backends\\backend_agg.py:211: RuntimeWarning: Glyph 56989 missing from current font.\n",
      "  font.set_text(s, 0.0, flags=flags)\n",
      "C:\\Users\\harip\\Anaconda3\\lib\\site-packages\\matplotlib\\backends\\backend_agg.py:180: RuntimeWarning: Glyph 56989 missing from current font.\n",
      "  font.set_text(s, 0, flags=flags)\n",
      "C:\\Users\\harip\\Anaconda3\\lib\\site-packages\\matplotlib\\backends\\backend_agg.py:211: RuntimeWarning: Glyph 56987 missing from current font.\n",
      "  font.set_text(s, 0.0, flags=flags)\n",
      "C:\\Users\\harip\\Anaconda3\\lib\\site-packages\\matplotlib\\backends\\backend_agg.py:180: RuntimeWarning: Glyph 56987 missing from current font.\n",
      "  font.set_text(s, 0, flags=flags)\n",
      "C:\\Users\\harip\\Anaconda3\\lib\\site-packages\\matplotlib\\backends\\backend_agg.py:211: RuntimeWarning: Glyph 56952 missing from current font.\n",
      "  font.set_text(s, 0.0, flags=flags)\n",
      "C:\\Users\\harip\\Anaconda3\\lib\\site-packages\\matplotlib\\backends\\backend_agg.py:176: RuntimeWarning: Glyph 120440 missing from current font.\n",
      "  font.load_char(ord(s), flags=flags)\n",
      "C:\\Users\\harip\\Anaconda3\\lib\\site-packages\\matplotlib\\backends\\backend_agg.py:211: RuntimeWarning: Glyph 56992 missing from current font.\n",
      "  font.set_text(s, 0.0, flags=flags)\n",
      "C:\\Users\\harip\\Anaconda3\\lib\\site-packages\\matplotlib\\backends\\backend_agg.py:211: RuntimeWarning: Glyph 56983 missing from current font.\n",
      "  font.set_text(s, 0.0, flags=flags)\n",
      "C:\\Users\\harip\\Anaconda3\\lib\\site-packages\\matplotlib\\backends\\backend_agg.py:180: RuntimeWarning: Glyph 56992 missing from current font.\n",
      "  font.set_text(s, 0, flags=flags)\n",
      "C:\\Users\\harip\\Anaconda3\\lib\\site-packages\\matplotlib\\backends\\backend_agg.py:180: RuntimeWarning: Glyph 56983 missing from current font.\n",
      "  font.set_text(s, 0, flags=flags)\n",
      "C:\\Users\\harip\\Anaconda3\\lib\\site-packages\\matplotlib\\backends\\backend_agg.py:211: RuntimeWarning: Glyph 56970 missing from current font.\n",
      "  font.set_text(s, 0.0, flags=flags)\n",
      "C:\\Users\\harip\\Anaconda3\\lib\\site-packages\\matplotlib\\backends\\backend_agg.py:211: RuntimeWarning: Glyph 56988 missing from current font.\n",
      "  font.set_text(s, 0.0, flags=flags)\n",
      "C:\\Users\\harip\\Anaconda3\\lib\\site-packages\\matplotlib\\backends\\backend_agg.py:180: RuntimeWarning: Glyph 56970 missing from current font.\n",
      "  font.set_text(s, 0, flags=flags)\n",
      "C:\\Users\\harip\\Anaconda3\\lib\\site-packages\\matplotlib\\backends\\backend_agg.py:180: RuntimeWarning: Glyph 56988 missing from current font.\n",
      "  font.set_text(s, 0, flags=flags)\n",
      "C:\\Users\\harip\\Anaconda3\\lib\\site-packages\\matplotlib\\backends\\backend_agg.py:211: RuntimeWarning: Glyph 56944 missing from current font.\n",
      "  font.set_text(s, 0.0, flags=flags)\n",
      "C:\\Users\\harip\\Anaconda3\\lib\\site-packages\\matplotlib\\backends\\backend_agg.py:180: RuntimeWarning: Glyph 56944 missing from current font.\n",
      "  font.set_text(s, 0, flags=flags)\n",
      "C:\\Users\\harip\\Anaconda3\\lib\\site-packages\\matplotlib\\backends\\backend_agg.py:211: RuntimeWarning: Glyph 56977 missing from current font.\n",
      "  font.set_text(s, 0.0, flags=flags)\n",
      "C:\\Users\\harip\\Anaconda3\\lib\\site-packages\\matplotlib\\backends\\backend_agg.py:180: RuntimeWarning: Glyph 56977 missing from current font.\n",
      "  font.set_text(s, 0, flags=flags)\n",
      "C:\\Users\\harip\\Anaconda3\\lib\\site-packages\\matplotlib\\backends\\backend_agg.py:176: RuntimeWarning: Glyph 120458 missing from current font.\n",
      "  font.load_char(ord(s), flags=flags)\n",
      "C:\\Users\\harip\\Anaconda3\\lib\\site-packages\\matplotlib\\backends\\backend_agg.py:211: RuntimeWarning: Glyph 56980 missing from current font.\n",
      "  font.set_text(s, 0.0, flags=flags)\n",
      "C:\\Users\\harip\\Anaconda3\\lib\\site-packages\\matplotlib\\backends\\backend_agg.py:180: RuntimeWarning: Glyph 56980 missing from current font.\n",
      "  font.set_text(s, 0, flags=flags)\n",
      "C:\\Users\\harip\\Anaconda3\\lib\\site-packages\\matplotlib\\backends\\backend_agg.py:211: RuntimeWarning: Glyph 56990 missing from current font.\n",
      "  font.set_text(s, 0.0, flags=flags)\n",
      "C:\\Users\\harip\\Anaconda3\\lib\\site-packages\\matplotlib\\backends\\backend_agg.py:180: RuntimeWarning: Glyph 56990 missing from current font.\n",
      "  font.set_text(s, 0, flags=flags)\n",
      "C:\\Users\\harip\\Anaconda3\\lib\\site-packages\\matplotlib\\backends\\backend_agg.py:211: RuntimeWarning: Glyph 56976 missing from current font.\n",
      "  font.set_text(s, 0.0, flags=flags)\n",
      "C:\\Users\\harip\\Anaconda3\\lib\\site-packages\\matplotlib\\backends\\backend_agg.py:180: RuntimeWarning: Glyph 56976 missing from current font.\n",
      "  font.set_text(s, 0, flags=flags)\n",
      "C:\\Users\\harip\\Anaconda3\\lib\\site-packages\\matplotlib\\backends\\backend_agg.py:211: RuntimeWarning: Glyph 56985 missing from current font.\n",
      "  font.set_text(s, 0.0, flags=flags)\n",
      "C:\\Users\\harip\\Anaconda3\\lib\\site-packages\\matplotlib\\backends\\backend_agg.py:180: RuntimeWarning: Glyph 56985 missing from current font.\n",
      "  font.set_text(s, 0, flags=flags)\n",
      "C:\\Users\\harip\\Anaconda3\\lib\\site-packages\\matplotlib\\backends\\backend_agg.py:211: RuntimeWarning: Glyph 56972 missing from current font.\n",
      "  font.set_text(s, 0.0, flags=flags)\n",
      "C:\\Users\\harip\\Anaconda3\\lib\\site-packages\\matplotlib\\backends\\backend_agg.py:180: RuntimeWarning: Glyph 56972 missing from current font.\n",
      "  font.set_text(s, 0, flags=flags)\n",
      "C:\\Users\\harip\\Anaconda3\\lib\\site-packages\\matplotlib\\backends\\backend_agg.py:211: RuntimeWarning: Glyph 56956 missing from current font.\n",
      "  font.set_text(s, 0.0, flags=flags)\n",
      "C:\\Users\\harip\\Anaconda3\\lib\\site-packages\\matplotlib\\backends\\backend_agg.py:180: RuntimeWarning: Glyph 56956 missing from current font.\n",
      "  font.set_text(s, 0, flags=flags)\n",
      "C:\\Users\\harip\\Anaconda3\\lib\\site-packages\\matplotlib\\backends\\backend_agg.py:176: RuntimeWarning: Glyph 120477 missing from current font.\n",
      "  font.load_char(ord(s), flags=flags)\n",
      "C:\\Users\\harip\\Anaconda3\\lib\\site-packages\\matplotlib\\backends\\backend_agg.py:211: RuntimeWarning: Glyph 56979 missing from current font.\n",
      "  font.set_text(s, 0.0, flags=flags)\n",
      "C:\\Users\\harip\\Anaconda3\\lib\\site-packages\\matplotlib\\backends\\backend_agg.py:180: RuntimeWarning: Glyph 56979 missing from current font.\n",
      "  font.set_text(s, 0, flags=flags)\n",
      "C:\\Users\\harip\\Anaconda3\\lib\\site-packages\\matplotlib\\backends\\backend_agg.py:211: RuntimeWarning: Glyph 56963 missing from current font.\n",
      "  font.set_text(s, 0.0, flags=flags)\n",
      "C:\\Users\\harip\\Anaconda3\\lib\\site-packages\\matplotlib\\backends\\backend_agg.py:180: RuntimeWarning: Glyph 56963 missing from current font.\n",
      "  font.set_text(s, 0, flags=flags)\n",
      "C:\\Users\\harip\\Anaconda3\\lib\\site-packages\\matplotlib\\backends\\backend_agg.py:176: RuntimeWarning: Glyph 120476 missing from current font.\n",
      "  font.load_char(ord(s), flags=flags)\n"
     ]
    },
    {
     "name": "stderr",
     "output_type": "stream",
     "text": [
      "C:\\Users\\harip\\Anaconda3\\lib\\site-packages\\matplotlib\\backends\\backend_agg.py:211: RuntimeWarning: Glyph 11036 missing from current font.\n",
      "  font.set_text(s, 0.0, flags=flags)\n",
      "C:\\Users\\harip\\Anaconda3\\lib\\site-packages\\matplotlib\\backends\\backend_agg.py:180: RuntimeWarning: Glyph 11036 missing from current font.\n",
      "  font.set_text(s, 0, flags=flags)\n"
     ]
    },
    {
     "data": {
      "image/png": "[encoded data removed]",
      "text/plain": [
       "<Figure size 432x288 with 1 Axes>"
      ]
     },
     "metadata": {
      "needs_background": "light"
     },
     "output_type": "display_data"
    }
   ],
   "source": [
    "##visualizing all the words using PCA\n",
    "X = model[new_model.wv.vocab]\n",
    "pca = PCA(n_components=2)\n",
    "result = pca.fit_transform(X)\n",
    "\n",
    "plt.scatter(result[:,0],result[:,1])\n",
    "words = list(model.wv.vocab)\n",
    "for i, word in enumerate(words):\n",
    "    plt.annotate(word, xy=(result[i,0], result[i,1]))"
   ]
  },
  {
   "cell_type": "code",
   "execution_count": 9,
   "metadata": {},
   "outputs": [],
   "source": [
    "##this function returns all of the words similar to a given word WITHIN a given threshold\n",
    "def get_similar_words(word, threshold):\n",
    "#     threshold = float(threshold)\n",
    "    result_words = []\n",
    "    all_words = new_model.most_similar(word)\n",
    "    all_words.insert(0,(word,1))\n",
    "    for i in range(0,len(all_words)):\n",
    "#         if(float(all_words[i][1])<float(threshold)):\n",
    "#         if((float(all_words[i][1])-float(threshold))<0):\n",
    "#             return all_words[:i-1]\n",
    "        if(all_words[i][1]>threshold):\n",
    "            result_words.append(all_words[i])\n",
    "        else:\n",
    "            return result_words"
   ]
  },
  {
   "cell_type": "code",
   "execution_count": 120,
   "metadata": {},
   "outputs": [
    {
     "name": "stderr",
     "output_type": "stream",
     "text": [
      "C:\\Users\\harip\\Anaconda3\\lib\\site-packages\\ipykernel_launcher.py:1: DeprecationWarning: Call to deprecated `most_similar` (Method will be removed in 4.0.0, use self.wv.most_similar() instead).\n",
      "  \"\"\"Entry point for launching an IPython kernel.\n"
     ]
    },
    {
     "data": {
      "text/plain": [
       "0.8443766832351685"
      ]
     },
     "execution_count": 120,
     "metadata": {},
     "output_type": "execute_result"
    }
   ],
   "source": [
    "sims = new_model.most_similar(\"unsettled\",topn=20)\n",
    "sims[0][1]\n",
    "#n similarity can be used to identify similarity between words within a custom dictionary and a sentence/text\n",
    "# new_model.n_similarity(['scary','spooky','frighten'],['sad','glad'])"
   ]
  },
  {
   "cell_type": "code",
   "execution_count": 11,
   "metadata": {},
   "outputs": [
    {
     "name": "stderr",
     "output_type": "stream",
     "text": [
      "C:\\Users\\harip\\Anaconda3\\lib\\site-packages\\ipykernel_launcher.py:5: DeprecationWarning: Call to deprecated `most_similar` (Method will be removed in 4.0.0, use self.wv.most_similar() instead).\n",
      "  \"\"\"\n"
     ]
    },
    {
     "data": {
      "text/plain": [
       "[('midnight', 1),\n",
       " ('noon', 0.8683921098709106),\n",
       " ('11pm', 0.8222334980964661),\n",
       " ('3am', 0.8001044988632202),\n",
       " ('dusk', 0.7903461456298828),\n",
       " ('10pm', 0.7604854106903076),\n",
       " ('nightfall', 0.7477110624313354),\n",
       " ('2am', 0.7446482181549072)]"
      ]
     },
     "execution_count": 11,
     "metadata": {},
     "output_type": "execute_result"
    }
   ],
   "source": [
    "get_similar_words(\"midnight\",0.74)"
   ]
  },
  {
   "cell_type": "code",
   "execution_count": 43,
   "metadata": {},
   "outputs": [
    {
     "name": "stdout",
     "output_type": "stream",
     "text": [
      "who ['creature', 'zombie', 'ghost', 'spirit', 'monster', 'demon', 'voodoo doll', 'devil', 'unhuman', 'body', 'clown', 'witch', 'not human', 'non human']\n",
      "what ['noise', 'shadow', 'darkness', 'mirror', 'scream', 'silence', 'quiet', 'cry', 'weep', 'cackle', 'stare', 'watch', 'footsteps', 'wail', 'dead', 'death', 'murder', 'voodoo', 'crime', 'noose', 'kill', 'creak', 'homocide']\n",
      "where ['cabin', 'woods', 'forest', 'bed', 'playground', 'abandoned building', 'hospital', 'asylum', 'building', 'haunted house']\n",
      "when ['midnight', 'after dark', '3am', '12 am', 'night shift', 'storm', 'closing', 'after hours']\n",
      "other ['alone', 'abandoned', 'scary', 'creepy', 'uncomfortable', 'strange', 'abnormal', 'decomposed', 'decay']\n"
     ]
    }
   ],
   "source": [
    "#Creating word dictionaries to group similar words\n",
    "who = [\"creature\",\"zombie\",\"ghost\",\"spirit\",\"monster\",\"demon\",\"voodoo doll\",\"devil\",\"unhuman\",\"body\",\n",
    "      \"clown\",\"witch\",\"not human\",\"non human\"]\n",
    "what = [\"noise\",\"shadow\",\"darkness\",\"mirror\",\"scream\",\"silence\",\"quiet\",\"cry\",\"weep\",\n",
    "       \"cackle\",\"stare\",\"watch\",\"footsteps\",\"wail\",\"dead\",\"death\",\"murder\",\"voodoo\",\"crime\",\"noose\",\"kill\",\"creak\",\"homocide\"]\n",
    "where = [\"cabin\",\"woods\",\"forest\",\"bed\",\"playground\",\"abandoned building\",\"hospital\",\"asylum\",\"building\",\n",
    "        \"haunted house\"]\n",
    "when = [\"midnight\",\"after dark\",\"3am\",\"12 am\",\"night shift\",\"storm\",\"closing\",\"after hours\"]\n",
    "other = [\"alone\",\"abandoned\",\"scary\",\"creepy\",\"uncomfortable\",\"strange\",\"abnormal\",\"decomposed\",\"decay\"]\n",
    "\n",
    "creepy_keywords = {'who':who,\n",
    "           'what':what,\n",
    "           'where':where,\n",
    "            'when':when,\n",
    "            'other':other}\n",
    "\n",
    "# who = {\"creature\",\"zombie\",\"ghost\",\"spirit\",\"monster\",\"demon\",\"voodoo doll\",\"devil\",\"unhuman\",\"body\",\n",
    "#       \"clown\",\"witch\",\"body\",\"not human\",\"non human\"}\n",
    "# what = {\"noise\",\"shadow\",\"darkness\",\"mirror\",\"scream\",\"silence\",\"quiet\",\"cry\",\"weep\",\n",
    "#        \"cackle\",\"stare\",\"watch\",\"footsteps\",\"wail\",\"dead\",\"death\",\"murder\",\"voodoo\",\"crime\",\"noose\",\"kill\",\"creak\",\"homocide\"}\n",
    "# where = {\"cabin\",\"woods\",\"forest\",\"bed\",\"playground\",\"abandoned building\",\"hospital\",\"asylum\",\"building\",\n",
    "#         \"haunted house\"}\n",
    "# when = {\"midnight\",\"after dark\",\"3am\",\"12 am\",\"night shift\",\"storm\",\"closing\",\"after hours\"}\n",
    "# other = {\"alone\",\"abandoned\",\"scary\",\"creepy\",\"uncomfortable\",\"strange\",\"abnormal\",\"decomposed\",\"decay\"}\n",
    "\n",
    "# creepy_keywords = {'who':who,\n",
    "#            'what':what,\n",
    "#            'where':where,\n",
    "#             'when':when,\n",
    "#             'other':other}\n",
    "for key, value in creepy_keywords.items():\n",
    "    print(key, value)"
   ]
  },
  {
   "cell_type": "code",
   "execution_count": null,
   "metadata": {},
   "outputs": [],
   "source": [
    "for words in creepy_keywords['who']:\n",
    "    try:\n",
    "        sim_words = get_similar_words(words,0.75)\n",
    "        if(sim_words==None):\n",
    "            continue\n",
    "        for s in sim_words:\n",
    "            if s not in creepy_keywords['who']:\n",
    "                creepy_keywords['who'].append(s[0])\n",
    "    except KeyError:\n",
    "        print(\"Sorry! Cannot find\",words,\"in dictionary!\")\n",
    "        pass"
   ]
  },
  {
   "cell_type": "code",
   "execution_count": 39,
   "metadata": {},
   "outputs": [
    {
     "name": "stdout",
     "output_type": "stream",
     "text": [
      "[('alone', 1)]\n",
      "[('abandoned', 1)]\n",
      "[('scary', 1), ('creepy', 0.8746416568756104), ('spooky', 0.8198869824409485)]\n",
      "[('creepy', 1), ('scary', 0.8746415376663208), ('spooky', 0.8063024282455444)]\n",
      "[('uncomfortable', 1), ('uneasy', 0.880303680896759), ('anxious', 0.7945650815963745)]\n",
      "[('strange', 1), ('weird', 0.8539746999740601), ('odd', 0.7963930368423462), ('peculiar', 0.7814311981201172)]\n",
      "[('abnormal', 1), ('extraordinary', 0.7779577970504761), ('abstract', 0.7640479803085327), ('uncanny', 0.7556464076042175), ('insignificant', 0.7508580684661865)]\n",
      "[('decomposed', 1), ('decomposing', 0.7540464401245117)]\n",
      "[('decay', 1), ('rot', 0.7898709774017334), ('stench', 0.7849401831626892), ('filth', 0.7615602612495422)]\n"
     ]
    },
    {
     "name": "stderr",
     "output_type": "stream",
     "text": [
      "C:\\Users\\harip\\Anaconda3\\lib\\site-packages\\ipykernel_launcher.py:5: DeprecationWarning: Call to deprecated `most_similar` (Method will be removed in 4.0.0, use self.wv.most_similar() instead).\n",
      "  \"\"\"\n"
     ]
    }
   ],
   "source": [
    "for words in creepy_keywords['other']:\n",
    "    try:\n",
    "        print(get_similar_words(words,0.75))\n",
    "    except KeyError:\n",
    "        pass"
   ]
  },
  {
   "cell_type": "code",
   "execution_count": 51,
   "metadata": {},
   "outputs": [
    {
     "name": "stdout",
     "output_type": "stream",
     "text": [
      "who ['creature', 'zombie', 'ghost', 'spirit', 'monster', 'demon', 'devil', 'unhuman', 'body', 'clown', 'witch', 'body', 'not human', 'non human', 'beast', 'zombie', 'vampire', 'Devil', 'Satan', 'murderer', 'torso']\n",
      "what ['noise', 'shadow', 'darkness', 'mirror', 'scream', 'silence', 'quiet', 'cry', 'weep', 'cackle', 'stare', 'watch', 'footsteps', 'wail', 'dead', 'death', 'murder', 'voodoo', 'crime', 'noose', 'kill', 'creak', 'homocide', 'sound', 'noises', 'silhoutte', 'blackness', 'void', 'nothingness', 'moonlight', 'shriek', 'whimper', 'gasp', 'sob', 'moan', 'yell', 'convulse', 'spasm', 'hyperventilate', 'rope', 'thump', 'bang', 'squeak']\n",
      "where ['cabin', 'woods', 'forest', 'bed', 'playground', 'abandoned building', 'hospital', 'asylum', 'building', 'haunted house', 'wilderness', 'fields', 'cemetary', 'gravehard', 'grave', 'park', 'institute', 'warehouse', 'barn', 'mansion']\n",
      "when ['midnight', 'after dark', '3am', '12am', 'night shift', 'storm', 'closing', 'after hours', '11pm', 'blizzard', 'fog', 'closed', 'locking']\n",
      "other ['alone', 'abandoned', 'scary', 'creepy', 'uncomfortable', 'strange', 'abnormal', 'decomposed', 'decay', 'spooky', 'uneasy', 'anxious', 'weird', 'odd', 'peculiar', 'abnormal', 'extraordinary', 'uncanny', 'decomposing', 'rot', 'stench', 'odor', 'filth']\n"
     ]
    }
   ],
   "source": [
    "who_e = [\"creature\",\"zombie\",\"ghost\",\"spirit\",\"monster\",\"demon\",\"devil\",\"unhuman\",\"body\",\n",
    "      \"clown\",\"witch\",\"body\",\"not human\",\"non human\",\"beast\",\"zombie\",\"vampire\",\"Devil\",\"Satan\",\"murderer\",\"torso\"]\n",
    "what_e = [\"noise\",\"shadow\",\"darkness\",\"mirror\",\"scream\",\"silence\",\"quiet\",\"cry\",\"weep\",\n",
    "       \"cackle\",\"stare\",\"watch\",\"footsteps\",\"wail\",\"dead\",\"death\",\"murder\",\"voodoo\",\"crime\",\"noose\",\"kill\",\"creak\",\"homocide\",\n",
    "          \"sound\",\"noises\",\"silhoutte\",\"blackness\",\"void\",\"nothingness\",\"moonlight\",\"shriek\",\"whimper\",\"gasp\",\"sob\",\"moan\",\n",
    "         \"yell\",\"convulse\",\"spasm\",\"hyperventilate\",\"rope\",\"thump\",\"bang\",\"squeak\"]\n",
    "where_e = [\"cabin\",\"woods\",\"forest\",\"bed\",\"playground\",\"abandoned building\",\"hospital\",\"asylum\",\"building\",\n",
    "        \"haunted house\",\"wilderness\",\"fields\",\"cemetary\",\"gravehard\",\"grave\",\"park\",\"institute\",\"warehouse\",\"barn\",\"mansion\"]\n",
    "when_e = [\"midnight\",\"after dark\",\"3am\",\"12am\",\"night shift\",\"storm\",\"closing\",\"after hours\",\"11pm\",\"blizzard\",\"fog\",\"closed\",\n",
    "         \"locking\"]\n",
    "other_e = [\"alone\",\"abandoned\",\"scary\",\"creepy\",\"uncomfortable\",\"strange\",\"abnormal\",\"decomposed\",\"decay\",\"spooky\",\"uneasy\",\n",
    "          \"anxious\",\"weird\",\"odd\",\"peculiar\",\"abnormal\",\"extraordinary\",\"uncanny\",\"decomposing\",\"rot\",\"stench\",\"odor\",\"filth\"]\n",
    "\n",
    "creepy_keywords_extended = {'who':who_e,\n",
    "           'what':what_e,\n",
    "           'where':where_e,\n",
    "            'when':when_e,\n",
    "            'other':other_e}\n",
    "\n",
    "for key, value in creepy_keywords_extended.items():\n",
    "    print(key, value)"
   ]
  },
  {
   "cell_type": "code",
   "execution_count": 144,
   "metadata": {},
   "outputs": [
    {
     "name": "stderr",
     "output_type": "stream",
     "text": [
      "C:\\Users\\harip\\Anaconda3\\lib\\site-packages\\ipykernel_launcher.py:1: DeprecationWarning: Call to deprecated `similarity` (Method will be removed in 4.0.0, use self.wv.similarity() instead).\n",
      "  \"\"\"Entry point for launching an IPython kernel.\n"
     ]
    },
    {
     "data": {
      "text/plain": [
       "0.7388383"
      ]
     },
     "execution_count": 144,
     "metadata": {},
     "output_type": "execute_result"
    }
   ],
   "source": [
    "new_model.similarity(\"murder\",\"suicide\")"
   ]
  },
  {
   "cell_type": "markdown",
   "metadata": {},
   "source": [
    "### To Explore\n",
    "1. Word embeddings can be used to identify how many words within a given story lie within a threshold of the word \"creepy\". This is similar to using Wordnet Synsets but we're using word embeddings instead. Perhaps doing a TFIDF of the creepy related words within a given text can give us some sort of creepiness score!\n",
    "2. Finding an abrupt change in the story - maybe through some sort of topic modelling?\n",
    "3. Analyzing the comments with similar word embeddings!\n",
    "4. Use gensim.similarities.docsim for similarity across documents\\\n",
    "5. Text embedding instead of word embedding\n",
    "\n",
    "### Tasks\n",
    "- Can we create a ground truth metric for what makes something creepy?\n",
    "- key words: scary, spooky, frightened, unsettled, disturbed, unnerved"
   ]
  },
  {
   "cell_type": "code",
   "execution_count": 99,
   "metadata": {},
   "outputs": [
    {
     "ename": "AttributeError",
     "evalue": "'float' object has no attribute 'split'",
     "output_type": "error",
     "traceback": [
      "\u001b[1;31m---------------------------------------------------------------------------\u001b[0m",
      "\u001b[1;31mAttributeError\u001b[0m                            Traceback (most recent call last)",
      "\u001b[1;32m<ipython-input-99-26a7b13e5a83>\u001b[0m in \u001b[0;36m<module>\u001b[1;34m\u001b[0m\n\u001b[0;32m      5\u001b[0m \u001b[1;33m\u001b[0m\u001b[0m\n\u001b[0;32m      6\u001b[0m \u001b[0mdoc\u001b[0m \u001b[1;33m=\u001b[0m \u001b[0mdf\u001b[0m\u001b[1;33m[\u001b[0m\u001b[1;34m'selftext'\u001b[0m\u001b[1;33m]\u001b[0m\u001b[1;33m[\u001b[0m\u001b[1;36m4\u001b[0m\u001b[1;33m]\u001b[0m\u001b[1;33m\u001b[0m\u001b[1;33m\u001b[0m\u001b[0m\n\u001b[1;32m----> 7\u001b[1;33m \u001b[0msplitdoc\u001b[0m \u001b[1;33m=\u001b[0m \u001b[0mdoc\u001b[0m\u001b[1;33m.\u001b[0m\u001b[0msplit\u001b[0m\u001b[1;33m(\u001b[0m\u001b[1;34m\".\"\u001b[0m\u001b[1;33m)\u001b[0m\u001b[1;33m\u001b[0m\u001b[1;33m\u001b[0m\u001b[0m\n\u001b[0m\u001b[0;32m      8\u001b[0m \u001b[1;33m\u001b[0m\u001b[0m\n\u001b[0;32m      9\u001b[0m \u001b[0mdoc\u001b[0m \u001b[1;33m=\u001b[0m \u001b[0mdoc\u001b[0m\u001b[1;33m.\u001b[0m\u001b[0mreplace\u001b[0m\u001b[1;33m(\u001b[0m\u001b[1;34m\"\\r\"\u001b[0m\u001b[1;33m,\u001b[0m\u001b[1;34m\"\"\u001b[0m\u001b[1;33m)\u001b[0m\u001b[1;33m\u001b[0m\u001b[1;33m\u001b[0m\u001b[0m\n",
      "\u001b[1;31mAttributeError\u001b[0m: 'float' object has no attribute 'split'"
     ]
    }
   ],
   "source": [
    "##Testing n similarity with each sentence.\n",
    "csv = pd.read_csv(\"RS_2019-12-15_creepypasta.csv\")\n",
    "df = pd.DataFrame(csv)\n",
    "df.head()\n",
    "\n",
    "doc = df['selftext'][4]\n",
    "splitdoc = doc.split(\".\")\n",
    "\n",
    "doc = doc.replace(\"\\r\",\"\")\n",
    "doc = doc.replace(\"\\n\",\"\")\n",
    "doc = doc.replace(\"'\",\"\")\n",
    "sentences = [nltk.word_tokenize(sent) for sent in nltk.sent_tokenize(doc)]\n",
    "print(sentences)"
   ]
  },
  {
   "cell_type": "code",
   "execution_count": 132,
   "metadata": {},
   "outputs": [
    {
     "name": "stdout",
     "output_type": "stream",
     "text": [
      "0.38564081986745197\n"
     ]
    },
    {
     "name": "stderr",
     "output_type": "stream",
     "text": [
      "C:\\Users\\harip\\Anaconda3\\lib\\site-packages\\ipykernel_launcher.py:29: DeprecationWarning: Call to deprecated `n_similarity` (Method will be removed in 4.0.0, use self.wv.n_similarity() instead).\n"
     ]
    }
   ],
   "source": [
    "who_custom = [\"creature\",\"zombie\",\"ghost\",\"spirit\",\"monster\",\"demon\",\"devil\",\"unhuman\",\"body\",\n",
    "      \"clown\",\"witch\",\"body\",\"beast\",\"zombie\",\"vampire\",\"Devil\",\"Satan\",\"murderer\",\"torso\"]\n",
    "what_custom = [\"noise\",\"shadow\",\"darkness\",\"mirror\",\"scream\",\"silence\",\"quiet\",\"cry\",\"weep\",\n",
    "       \"cackle\",\"stare\",\"watch\",\"footsteps\",\"wail\",\"dead\",\"death\",\"murder\",\"voodoo\",\"crime\",\"noose\",\"kill\",\"creak\",\n",
    "          \"sound\",\"noises\",\"blackness\",\"void\",\"nothingness\",\"moonlight\",\"shriek\",\"whimper\",\"gasp\",\"sob\",\"moan\",\n",
    "         \"yell\",\"convulse\",\"spasm\",\"hyperventilate\",\"rope\",\"thump\",\"bang\",\"squeak\"]\n",
    "where_custom = [\"cabin\",\"woods\",\"forest\",\"bed\",\"playground\",\"hospital\",\"asylum\",\"building\",\n",
    "        \"wilderness\",\"fields\",\"cemetary\",\"graveyard\",\"grave\",\"park\",\"institute\",\"warehouse\",\"barn\",\"mansion\"]\n",
    "when_custom = [\"midnight\",\"3am\",\"12am\",\"storm\",\"closing\",\"11pm\",\"blizzard\",\"fog\",\"closed\",\n",
    "         \"locking\"]\n",
    "other_custom = [\"alone\",\"abandoned\",\"scary\",\"creepy\",\"uncomfortable\",\"strange\",\"abnormal\",\"decomposed\",\"decay\",\"spooky\",\"uneasy\",\n",
    "          \"anxious\",\"weird\",\"odd\",\"peculiar\",\"abnormal\",\"extraordinary\",\"uncanny\",\"decomposing\",\"rot\",\"stench\",\"odor\",\"filth\",\n",
    "               \"haunted\"]\n",
    "\n",
    "creepy_keywords_custom = {'who':who_custom,\n",
    "           'what':what_custom,\n",
    "           'where':where_custom,\n",
    "            'when':when_custom,\n",
    "            'other':other_custom}\n",
    "\n",
    "# for key, value in creepy_keywords_custom.items():\n",
    "#     print(key, value)\n",
    "num_exceptions = 0\n",
    "sum_similarities = 0\n",
    "total_sentences = 0\n",
    "for sentence in sentences:\n",
    "    try:\n",
    "#         print(sentence,new_model.n_similarity(sentence,creepy_keywords_custom['who']))\n",
    "        sum_similarities += new_model.n_similarity(sentence,creepy_keywords_custom['where'])\n",
    "        total_sentences+=1\n",
    "    except KeyError:\n",
    "        num_exceptions += 1\n",
    "        pass\n",
    "print(sum_similarities/total_sentences)"
   ]
  },
  {
   "cell_type": "code",
   "execution_count": 127,
   "metadata": {},
   "outputs": [
    {
     "name": "stdout",
     "output_type": "stream",
     "text": [
      "[['I', 'really', 'like', 'my', 'dog', '.'], ['It', 'is', 'so', 'beautiful', 'outside', 'and', 'amazing', '.'], ['I', 'will', 'take', 'my', 'dog', 'on', 'a', 'walk']]\n"
     ]
    }
   ],
   "source": [
    "#for non creepy text:\n",
    "\n",
    "# test_doc = \"In 2003, an English policeman discovered a greyhound cowering in a locked shed. The dog was severely malnourished, filthy, and clearly abused.The policeman took her to the Nuneaton and Warwickshire Wildlife Sanctuary, a place founded and run by Geoff Grewcock to care for sick and injured animals. And so an act of fate would change the life of not only a dog and a person, but hundreds of other animals as well.When I first met Jasmine, you could tell she had been emotionally devastated but was a gentle dog by nature, Grewcock said. And soon, she started nurturing the other animals.Jasmine became famous for playing mother over the years to puppies, foxes, a fawn, 4 badger cubs, 15 chicks, 8 guinea pigs, 15 rabbits, a deer—and one of her favorites, a goose.There are certain things only an animal mother can provide, and Jasmine provided it, said Grewcock.\"\n",
    "# test_doc = df['selftext'][14]\n",
    "test_doc = \"I really like my dog. It is so beautiful outside and amazing. I will take my dog on a walk\"\n",
    "splitdoc = test_doc.split(\".\")\n",
    "doc = test_doc.replace(\"\\r\",\"\")\n",
    "doc = test_doc.replace(\"\\n\",\"\")\n",
    "doc = test_doc.replace(\"'\",\"\")\n",
    "sentences = [nltk.word_tokenize(sent) for sent in nltk.sent_tokenize(test_doc)]\n",
    "print(sentences)"
   ]
  },
  {
   "cell_type": "code",
   "execution_count": 56,
   "metadata": {},
   "outputs": [],
   "source": [
    "def get_keywords(keywords,passage):\n",
    "#     print(passage)\n",
    "#     if(passage==\"\"):\n",
    "#         return None\n",
    "    keyword_count = Counter()\n",
    "    for word in passage.split(\" \"):\n",
    "        if word in keywords['who']:\n",
    "            keyword_count['who'] += 1\n",
    "        if word in keywords['what']:\n",
    "            keyword_count['what'] +=1\n",
    "        if word in keywords['where']:\n",
    "            keyword_count['where'] +=1\n",
    "        if word in keywords['when']:\n",
    "            keyword_count['when'] += 1\n",
    "        if word in keywords['other']:\n",
    "            keyword_count['other'] += 1\n",
    "    return keyword_count"
   ]
  },
  {
   "cell_type": "code",
   "execution_count": 61,
   "metadata": {},
   "outputs": [],
   "source": [
    "from collections import Counter\n",
    "track_keywords=dict()\n",
    "for i in range(0,len(df)):\n",
    "    if((df['is_self'][i]==False)|(df['score'][i]<6)):\n",
    "        continue\n",
    "    try:\n",
    "        c = get_keywords(creepy_keywords_extended,df['selftext'][i].replace(\"\\n\",\"\"))\n",
    "        track_keywords.update({df['title'][i]:c})\n",
    "    except AttributeError:\n",
    "        pass"
   ]
  },
  {
   "cell_type": "code",
   "execution_count": 60,
   "metadata": {},
   "outputs": [
    {
     "name": "stdout",
     "output_type": "stream",
     "text": [
      "{'Summer thrift store job': Counter({'what': 1, 'when': 1, 'other': 1}), 'Killing My Childhood Monster Was Easier Than I Thought': Counter({'what': 5, 'who': 4}), '‘Sweeten the deal’': Counter({'what': 7, 'other': 5, 'who': 3}), \"I'm Stuck at a Hospital and I Don't Think I Can Leave\": Counter({'where': 3, 'what': 2}), '\"Something Isn\\'t Right About My Home Town\\'s Diner\"': Counter({'other': 1})}\n"
     ]
    }
   ],
   "source": [
    "print(track_keywords)"
   ]
  },
  {
   "cell_type": "code",
   "execution_count": 62,
   "metadata": {},
   "outputs": [
    {
     "name": "stdout",
     "output_type": "stream",
     "text": [
      "{'Summer thrift store job': Counter({'what': 1, 'when': 1, 'other': 1}), 'Killing My Childhood Monster Was Easier Than I Thought': Counter({'what': 5, 'who': 4}), '‘Sweeten the deal’': Counter({'what': 8, 'other': 7, 'who': 3}), \"I'm Stuck at a Hospital and I Don't Think I Can Leave\": Counter({'where': 4, 'what': 2, 'when': 1}), '\"Something Isn\\'t Right About My Home Town\\'s Diner\"': Counter({'other': 1})}\n"
     ]
    }
   ],
   "source": [
    "print(track_keywords)"
   ]
  },
  {
   "cell_type": "code",
   "execution_count": null,
   "metadata": {},
   "outputs": [],
   "source": []
  }
 ],
 "metadata": {
  "kernelspec": {
   "display_name": "Python 3",
   "language": "python",
   "name": "python3"
  },
  "language_info": {
   "codemirror_mode": {
    "name": "ipython",
    "version": 3
   },
   "file_extension": ".py",
   "mimetype": "text/x-python",
   "name": "python",
   "nbconvert_exporter": "python",
   "pygments_lexer": "ipython3",
   "version": "3.7.3"
  }
 },
 "nbformat": 4,
 "nbformat_minor": 2
}

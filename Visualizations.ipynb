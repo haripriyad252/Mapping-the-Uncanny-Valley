{
 "cells": [
  {
   "cell_type": "code",
   "execution_count": 3,
   "metadata": {},
   "outputs": [],
   "source": [
    "import nltk\n",
    "import os\n",
    "from nltk import word_tokenize\n",
    "from nltk.corpus import stopwords\n",
    "import pandas as pd\n",
    "from gensim.models import Word2Vec\n",
    "import string\n",
    "from collections import Counter\n",
    "import gensim.downloader as api\n",
    "from gensim.models import TfidfModel\n",
    "from gensim.corpora import Dictionary\n",
    "import gensim\n",
    "import pprint\n",
    "from gensim import corpora\n",
    "from gensim.utils import simple_preprocess\n",
    "import numpy as np\n",
    "import math\n",
    "import pickle"
   ]
  },
  {
   "cell_type": "code",
   "execution_count": 51,
   "metadata": {},
   "outputs": [],
   "source": [
    "class CreepyMetric:\n",
    "    def __init__(self,noun_weight, action_weight, time_weight, adjective_weight):\n",
    "        self.scores = {\"noun_weight\":noun_weight,\n",
    "                      \"action_weight\":action_weight,\n",
    "                      \"time_weight\":time_weight,\n",
    "                      \"adjective_weight\":adjective_weight}\n",
    "\n",
    "        self.noun = [\"creature\",\"zombie\",\"ghost\",\"spirit\",\"monster\",\"demon\",\"devil\",\"unhuman\",\"body\", \"clown\",\"witch\",\"body\",\n",
    "                      \"not human\",\"non human\",\"beast\",\"zombie\",\"vampire\",\"Devil\",\"Satan\",\"murderer\",\"torso\", \"cabin\",\"woods\",\"forest\",\n",
    "                     \"bed\",\"playground\",\"hospital\",\"asylum\",\"haunted house\",\"cemetary\",\"graveyard\",\"grave\",\n",
    "                     \"institute\",\"mansion\",\"noise\",\"shadow\",\"darkness\",\"mirror\",\"footsteps\",\"dead\",\"death\",\"murder\",\"voodoo\",\n",
    "                    \"sound\",\"noises\",\"silhoutte\",\"blackness\",\"void\",\"nothingness\",\"decomposed\",\"decay\",\"stench\",\"odor\",\"filth\"]\n",
    "        self.action = [\"scream\",\"silence\",\"quiet\",\"cry\",\"weep\",\"cackle\",\"stare\",\"watch\",\"wail\",\"crime\",\"noose\",\"kill\",\"creak\",\n",
    "                       \"homocide\",\"shriek\",\"whimper\",\"gasp\",\"sob\",\"moan\",\"yell\",\"convulse\",\"spasm\",\"hyperventilate\",\"thump\",\n",
    "                       \"bang\",\"squeak\",\"decomposing\",\"rot\",\"die\",\"kill\"]\n",
    "        self.time = [\"midnight\",\"after dark\",\"3am\",\"12am\",\"night shift\",\"storm\",\"closing\",\"after hours\",\"11pm\",\"blizzard\",\n",
    "                       \"fog\",\"closed\",\"locking\"]\n",
    "        self.adjective = [\"alone\",\"abandoned\",\"scary\",\"creepy\",\"horror\",\"uncomfortable\",\"strange\",\"abnormal\",\"spooky\",\n",
    "                        \"uneasy\",\"anxious\",\"weird\",\"odd\",\"peculiar\",\"abnormal\",\"extraordinary\",\"uncanny\"]\n",
    "\n",
    "        self.creepy_keywords = {'noun':self.noun,\n",
    "                   'action':self.action,\n",
    "                   'time':self.time,\n",
    "                    'adjective':self.adjective}\n",
    "        \n",
    "        self.totalkey = []\n",
    "        for key, value in self.creepy_keywords.items():\n",
    "            self.totalkey.extend(value)\n",
    "        \n",
    "    def preprocess(self,text):\n",
    "        text = text.lower()\n",
    "        text_p = \"\".join([char for char in text if char not in string.punctuation])\n",
    "        words = word_tokenize(text_p)\n",
    "        stop_words = stopwords.words(\"english\")\n",
    "        filtered = [word for word in words if not word in stop_words]\n",
    "        return filtered"
   ]
  },
  {
   "cell_type": "code",
   "execution_count": 52,
   "metadata": {},
   "outputs": [
    {
     "data": {
      "text/plain": [
       "['creature',\n",
       " 'zombie',\n",
       " 'ghost',\n",
       " 'spirit',\n",
       " 'monster',\n",
       " 'demon',\n",
       " 'devil',\n",
       " 'unhuman',\n",
       " 'body',\n",
       " 'clown',\n",
       " 'witch',\n",
       " 'body',\n",
       " 'not human',\n",
       " 'non human',\n",
       " 'beast',\n",
       " 'zombie',\n",
       " 'vampire',\n",
       " 'Devil',\n",
       " 'Satan',\n",
       " 'murderer',\n",
       " 'torso',\n",
       " 'cabin',\n",
       " 'woods',\n",
       " 'forest',\n",
       " 'bed',\n",
       " 'playground',\n",
       " 'hospital',\n",
       " 'asylum',\n",
       " 'haunted house',\n",
       " 'cemetary',\n",
       " 'graveyard',\n",
       " 'grave',\n",
       " 'institute',\n",
       " 'mansion',\n",
       " 'noise',\n",
       " 'shadow',\n",
       " 'darkness',\n",
       " 'mirror',\n",
       " 'footsteps',\n",
       " 'dead',\n",
       " 'death',\n",
       " 'murder',\n",
       " 'voodoo',\n",
       " 'sound',\n",
       " 'noises',\n",
       " 'silhoutte',\n",
       " 'blackness',\n",
       " 'void',\n",
       " 'nothingness',\n",
       " 'decomposed',\n",
       " 'decay',\n",
       " 'stench',\n",
       " 'odor',\n",
       " 'filth',\n",
       " 'scream',\n",
       " 'silence',\n",
       " 'quiet',\n",
       " 'cry',\n",
       " 'weep',\n",
       " 'cackle',\n",
       " 'stare',\n",
       " 'watch',\n",
       " 'wail',\n",
       " 'crime',\n",
       " 'noose',\n",
       " 'kill',\n",
       " 'creak',\n",
       " 'homocide',\n",
       " 'shriek',\n",
       " 'whimper',\n",
       " 'gasp',\n",
       " 'sob',\n",
       " 'moan',\n",
       " 'yell',\n",
       " 'convulse',\n",
       " 'spasm',\n",
       " 'hyperventilate',\n",
       " 'thump',\n",
       " 'bang',\n",
       " 'squeak',\n",
       " 'decomposing',\n",
       " 'rot',\n",
       " 'die',\n",
       " 'kill',\n",
       " 'midnight',\n",
       " 'after dark',\n",
       " '3am',\n",
       " '12am',\n",
       " 'night shift',\n",
       " 'storm',\n",
       " 'closing',\n",
       " 'after hours',\n",
       " '11pm',\n",
       " 'blizzard',\n",
       " 'fog',\n",
       " 'closed',\n",
       " 'locking',\n",
       " 'alone',\n",
       " 'abandoned',\n",
       " 'scary',\n",
       " 'creepy',\n",
       " 'horror',\n",
       " 'uncomfortable',\n",
       " 'strange',\n",
       " 'abnormal',\n",
       " 'spooky',\n",
       " 'uneasy',\n",
       " 'anxious',\n",
       " 'weird',\n",
       " 'odd',\n",
       " 'peculiar',\n",
       " 'abnormal',\n",
       " 'extraordinary',\n",
       " 'uncanny']"
      ]
     },
     "execution_count": 52,
     "metadata": {},
     "output_type": "execute_result"
    }
   ],
   "source": [
    "noun_weightage = 0.6\n",
    "action_weightage = 0.6\n",
    "time_weightage = 0.2\n",
    "adjective_weightage = 0.6\n",
    "\n",
    "metric = CreepyMetric(noun_weightage,action_weightage,time_weightage,adjective_weightage)\n",
    "all_words = []\n",
    "[[all_words.extend(w)] for w in metric.creepy_keywords.values()]\n",
    "all_words"
   ]
  },
  {
   "cell_type": "code",
   "execution_count": 84,
   "metadata": {},
   "outputs": [
    {
     "name": "stdout",
     "output_type": "stream",
     "text": [
      "21090\n"
     ]
    }
   ],
   "source": [
    "##CREEPY PASTA\n",
    "category_counter = Counter()\n",
    "totalpasta=0\n",
    "for file in os.listdir(os.getcwd()):\n",
    "    if(file.endswith(\"csv\")):\n",
    "        csv = pd.read_csv(file)\n",
    "        df = pd.DataFrame(csv)\n",
    "        df = df[(df['selftext']!=\"[deleted]\")&((df['selftext']!=\"[removed]\"))]\n",
    "        for passage in df['selftext'].dropna():\n",
    "            totalpasta+=1\n",
    "            for category in metric.creepy_keywords.keys():\n",
    "                for word in metric.creepy_keywords[category]:\n",
    "                    if word in passage:\n",
    "                        category_counter[category] += 1\n",
    "                        \n",
    "print(totalpasta)"
   ]
  },
  {
   "cell_type": "code",
   "execution_count": 99,
   "metadata": {},
   "outputs": [
    {
     "data": {
      "text/html": [
       "<div>\n",
       "<style scoped>\n",
       "    .dataframe tbody tr th:only-of-type {\n",
       "        vertical-align: middle;\n",
       "    }\n",
       "\n",
       "    .dataframe tbody tr th {\n",
       "        vertical-align: top;\n",
       "    }\n",
       "\n",
       "    .dataframe thead th {\n",
       "        text-align: right;\n",
       "    }\n",
       "</style>\n",
       "<table border=\"1\" class=\"dataframe\">\n",
       "  <thead>\n",
       "    <tr style=\"text-align: right;\">\n",
       "      <th></th>\n",
       "      <th>Subreddit</th>\n",
       "      <th>Category</th>\n",
       "      <th>Counts</th>\n",
       "      <th>Total</th>\n",
       "      <th>Density</th>\n",
       "    </tr>\n",
       "  </thead>\n",
       "  <tbody>\n",
       "    <tr>\n",
       "      <th>0</th>\n",
       "      <td>Creepypasta</td>\n",
       "      <td>Noun</td>\n",
       "      <td>78727</td>\n",
       "      <td>21090.0</td>\n",
       "      <td>3.733</td>\n",
       "    </tr>\n",
       "    <tr>\n",
       "      <th>1</th>\n",
       "      <td>Creepypasta</td>\n",
       "      <td>Action</td>\n",
       "      <td>61964</td>\n",
       "      <td>NaN</td>\n",
       "      <td>2.938</td>\n",
       "    </tr>\n",
       "    <tr>\n",
       "      <th>2</th>\n",
       "      <td>Creepypasta</td>\n",
       "      <td>Adjective</td>\n",
       "      <td>27731</td>\n",
       "      <td>NaN</td>\n",
       "      <td>1.315</td>\n",
       "    </tr>\n",
       "    <tr>\n",
       "      <th>3</th>\n",
       "      <td>Creepypasta</td>\n",
       "      <td>Time</td>\n",
       "      <td>7404</td>\n",
       "      <td>NaN</td>\n",
       "      <td>0.351</td>\n",
       "    </tr>\n",
       "    <tr>\n",
       "      <th>4</th>\n",
       "      <td>Non Creepy</td>\n",
       "      <td>Noun</td>\n",
       "      <td>314945</td>\n",
       "      <td>472678.0</td>\n",
       "      <td>0.666</td>\n",
       "    </tr>\n",
       "  </tbody>\n",
       "</table>\n",
       "</div>"
      ],
      "text/plain": [
       "     Subreddit   Category  Counts     Total  Density\n",
       "0  Creepypasta       Noun   78727   21090.0    3.733\n",
       "1  Creepypasta     Action   61964       NaN    2.938\n",
       "2  Creepypasta  Adjective   27731       NaN    1.315\n",
       "3  Creepypasta       Time    7404       NaN    0.351\n",
       "4   Non Creepy       Noun  314945  472678.0    0.666"
      ]
     },
     "execution_count": 99,
     "metadata": {},
     "output_type": "execute_result"
    }
   ],
   "source": [
    "test = pd.read_csv(\"../test1.csv\")\n",
    "testdf = pd.DataFrame(test)\n",
    "test.head()"
   ]
  },
  {
   "cell_type": "code",
   "execution_count": 100,
   "metadata": {},
   "outputs": [
    {
     "data": {
      "text/plain": [
       "Text(0.5, 1.0, 'Grouped Barplot: Creepy Word Count')"
      ]
     },
     "execution_count": 100,
     "metadata": {},
     "output_type": "execute_result"
    },
    {
     "data": {
      "image/png": "[encoded data removed]",
      "text/plain": [
       "<Figure size 720x576 with 1 Axes>"
      ]
     },
     "metadata": {
      "needs_background": "light"
     },
     "output_type": "display_data"
    }
   ],
   "source": [
    "##This figure gives us the occurence of words per post in each category of creepy keywords for creepy vs non creepy subreddits\n",
    "\n",
    "plt.figure(figsize=(10, 8))\n",
    "sns.barplot(x=\"Category\", y=\"Density\", hue=\"Subreddit\", palette='husl', data=testdf)\n",
    "plt.ylabel(\"Count\", size=14)\n",
    "plt.xlabel(\"Creepy Categories\", size=14)\n",
    "plt.title(\"Grouped Barplot: Creepy Word Count\", size=18)"
   ]
  },
  {
   "cell_type": "code",
   "execution_count": 94,
   "metadata": {},
   "outputs": [
    {
     "data": {
      "text/plain": [
       "Counter({'action': 337081, 'noun': 314945, 'adjective': 125575, 'time': 28985})"
      ]
     },
     "execution_count": 94,
     "metadata": {},
     "output_type": "execute_result"
    }
   ],
   "source": [
    "##CONFESSION\n",
    "# category_counter_nc = Counter()\n",
    "# total_nc=0\n",
    "for file in os.listdir(os.getcwd()):\n",
    "    if(file.endswith(\"csv\")):\n",
    "        csv = pd.read_csv(file)\n",
    "        df = pd.DataFrame(csv)\n",
    "        df = df[(df['selftext']!=\"[deleted]\")&((df['selftext']!=\"[removed]\"))]\n",
    "        for passage in df['selftext'].dropna():\n",
    "            total_nc+=1\n",
    "            for category in metric.creepy_keywords.keys():\n",
    "                for word in metric.creepy_keywords[category]:\n",
    "                    if word in passage:\n",
    "                        category_counter_nc[category] += 1\n",
    "                        \n",
    "category_counter_nc"
   ]
  },
  {
   "cell_type": "code",
   "execution_count": 95,
   "metadata": {},
   "outputs": [
    {
     "data": {
      "text/plain": [
       "472678"
      ]
     },
     "execution_count": 95,
     "metadata": {},
     "output_type": "execute_result"
    }
   ],
   "source": [
    "##total number of non creepy subreddit posts\n",
    "total_nc"
   ]
  },
  {
   "cell_type": "markdown",
   "metadata": {},
   "source": [
    "## PCA!"
   ]
  },
  {
   "cell_type": "code",
   "execution_count": 104,
   "metadata": {},
   "outputs": [
    {
     "name": "stdout",
     "output_type": "stream",
     "text": [
      "Word2Vec(vocab=48172, size=100, alpha=0.025)\n"
     ]
    }
   ],
   "source": [
    "model = Word2Vec.load('models/model.bin')\n",
    "print(model)"
   ]
  },
  {
   "cell_type": "code",
   "execution_count": 108,
   "metadata": {},
   "outputs": [
    {
     "name": "stdout",
     "output_type": "stream",
     "text": [
      "Counter({'body': 148, 'bed': 143, 'dead': 131, 'sound': 118, 'death': 84, 'weird': 83, 'creature': 72, 'strange': 63, 'kill': 62, 'horror': 61, 'forest': 59, 'alone': 56, 'die': 55, 'noise': 53, 'scream': 50, 'woods': 49, 'watch': 49, 'closed': 48, 'silence': 44, 'creepy': 42, 'darkness': 42, 'quiet': 40, 'demon': 36, 'hospital': 35, 'shadow': 34, 'cry': 28, 'monster': 27, 'footsteps': 26, 'devil': 26, 'ghost': 23, 'abandoned': 23, 'beast': 23, 'scary': 21, 'odd': 20, 'mirror': 20, 'closing': 14, 'noises': 14, 'cabin': 14, 'stare': 13, 'spooky': 13, 'midnight': 12, 'void': 12, 'fog': 11, 'clown': 11, 'murder': 11, 'uncomfortable': 11, 'anxious': 9, 'crime': 8, 'storm': 8, 'uneasy': 8, 'spirit': 8, 'nothingness': 8, 'blackness': 7, 'bang': 7, 'mansion': 7, 'rot': 6, 'playground': 6, 'grave': 5, 'yell': 5, 'graveyard': 5, 'peculiar': 4, 'shriek': 4, 'creak': 4, 'cackle': 4, 'witch': 4, 'torso': 4, 'zombie': 3, 'noose': 3, 'stench': 3, 'asylum': 3, 'locking': 3, 'murderer': 2, 'odor': 2, 'filth': 2, 'abnormal': 2, 'thump': 2, 'gasp': 2, 'decay': 2, 'sob': 2, 'uncanny': 2, 'hyperventilate': 1, 'whimper': 1, '3am': 1, 'unhuman': 1})\n"
     ]
    }
   ],
   "source": [
    "#We are counting the occurence of each creepy word within our keyword dictionary, in creepypasta posts\n",
    "total_keywords_creepypasta = Counter()\n",
    "for csv in os.listdir(os.getcwd()):\n",
    "    if(csv.endswith(\".csv\")):\n",
    "#         print(csv)\n",
    "        c = pd.read_csv(csv)\n",
    "        df = pd.DataFrame(c)\n",
    "        try:\n",
    "            for j in df['selftext']:\n",
    "                preprocessed = metric.preprocess(j)\n",
    "                for word in preprocessed:\n",
    "                    if word in all_words:\n",
    "                        total_keywords_creepypasta[word] += 1\n",
    "        except (KeyError, AttributeError) as e:\n",
    "            pass\n",
    "print(total_keywords_creepypasta)"
   ]
  },
  {
   "cell_type": "code",
   "execution_count": 162,
   "metadata": {},
   "outputs": [
    {
     "name": "stderr",
     "output_type": "stream",
     "text": [
      "C:\\Users\\harip\\Anaconda3\\lib\\site-packages\\ipykernel_launcher.py:12: DeprecationWarning: Call to deprecated `__getitem__` (Method will be removed in 4.0.0, use self.wv.__getitem__() instead).\n",
      "  if sys.path[0] == '':\n",
      "C:\\Users\\harip\\Anaconda3\\lib\\site-packages\\ipykernel_launcher.py:25: DeprecationWarning: Call to deprecated `__getitem__` (Method will be removed in 4.0.0, use self.wv.__getitem__() instead).\n",
      "C:\\Users\\harip\\Anaconda3\\lib\\site-packages\\ipykernel_launcher.py:38: DeprecationWarning: Call to deprecated `__getitem__` (Method will be removed in 4.0.0, use self.wv.__getitem__() instead).\n",
      "C:\\Users\\harip\\Anaconda3\\lib\\site-packages\\ipykernel_launcher.py:52: DeprecationWarning: Call to deprecated `__getitem__` (Method will be removed in 4.0.0, use self.wv.__getitem__() instead).\n"
     ]
    }
   ],
   "source": [
    "#We only consider creepy keywords which occur beyond a certain threshold.\n",
    "\n",
    "from sklearn.decomposition import PCA\n",
    "import matplotlib.pyplot as plt\n",
    "#Noun\n",
    "creepy_nounembeddings = dict()\n",
    "for word in metric.creepy_keywords['noun']:\n",
    "    if total_keywords_creepypasta[word]>30:\n",
    "        try:\n",
    "            creepy_nounembeddings.update({word:model.wv.vocab[word]})\n",
    "        except KeyError:\n",
    "            pass\n",
    "\n",
    "X1 = model[creepy_nounembeddings]\n",
    "pca1 = PCA(n_components=2)\n",
    "result_noun = pca1.fit_transform(X1)\n",
    "\n",
    "#action\n",
    "creepy_actionembeddings = dict()\n",
    "for word in metric.creepy_keywords['action']:\n",
    "    if total_keywords_creepypasta[word]>30:\n",
    "        try:\n",
    "            creepy_actionembeddings.update({word:model.wv.vocab[word]})\n",
    "        except KeyError:\n",
    "            pass\n",
    "\n",
    "X2 = model[creepy_actionembeddings]\n",
    "pca2 = PCA(n_components=2)\n",
    "result_action = pca2.fit_transform(X2)\n",
    "\n",
    "#adjective\n",
    "creepy_adjectiveembeddings = dict()\n",
    "for word in metric.creepy_keywords['adjective']:\n",
    "    if total_keywords_creepypasta[word]>30:\n",
    "        try:\n",
    "            creepy_adjectiveembeddings.update({word:model.wv.vocab[word]})\n",
    "        except KeyError:\n",
    "            pass\n",
    "\n",
    "X3 = model[creepy_adjectiveembeddings]\n",
    "pca3 = PCA(n_components=2)\n",
    "result_adjective = pca3.fit_transform(X3)\n",
    "\n",
    "\n",
    "#time\n",
    "creepy_timeembeddings = dict()\n",
    "for word in metric.creepy_keywords['time']:\n",
    "    if total_keywords_creepypasta[word]>10:\n",
    "        try:\n",
    "            creepy_timeembeddings.update({word:model.wv.vocab[word]})\n",
    "        except KeyError:\n",
    "            pass\n",
    "\n",
    "X4 = model[creepy_timeembeddings]\n",
    "pca4 = PCA(n_components=2)\n",
    "result_time = pca4.fit_transform(X4)"
   ]
  },
  {
   "cell_type": "code",
   "execution_count": 163,
   "metadata": {},
   "outputs": [
    {
     "data": {
      "text/plain": [
       "<matplotlib.legend.Legend at 0x18c83e157b8>"
      ]
     },
     "execution_count": 163,
     "metadata": {},
     "output_type": "execute_result"
    },
    {
     "data": {
      "image/png": "[encoded data removed]",
      "text/plain": [
       "<Figure size 432x288 with 1 Axes>"
      ]
     },
     "metadata": {
      "needs_background": "light"
     },
     "output_type": "display_data"
    }
   ],
   "source": [
    "plt.scatter(result_noun[:,0],result_noun[:,1],marker=\"^\")\n",
    "plt.scatter(result_action[:,0],result_action[:,1],marker=\"*\")\n",
    "plt.scatter(result_time[:,0],result_time[:,1],marker=\"o\")\n",
    "plt.scatter(result_adjective[:,0],result_adjective[:,1],marker=\"s\")\n",
    "creepy_nounwords = list(creepy_nounembeddings)\n",
    "creepy_actionwords = list(creepy_actionembeddings)\n",
    "creepy_adjectivewords = list(creepy_adjectiveembeddings)\n",
    "creepy_timewords = list(creepy_timeembeddings)\n",
    "# for i, word in enumerate(creepy_nounwords):\n",
    "#     plt.annotate(word, xy=(result_noun[i,0], result_noun[i,1]))\n",
    "for i, word in enumerate(creepy_actionwords):\n",
    "    plt.annotate(word, xy=(result_action[i,0], result_action[i,1]))\n",
    "for i, word in enumerate(creepy_nounwords):\n",
    "    plt.annotate(word, xy=(result_noun[i,0], result_noun[i,1]))\n",
    "for i, word in enumerate(creepy_adjectivewords):\n",
    "    plt.annotate(word, xy=(result_adjective[i,0], result_adjective[i,1]))\n",
    "for i, word in enumerate(creepy_timewords):\n",
    "    plt.annotate(word, xy=(result_time[i,0], result_time[i,1]))\n",
    "\n",
    "import matplotlib.lines as mlines\n",
    "# plt.legend([result_noun[:1]], [\"Attr A\"])\n",
    "\n",
    "blue_line = mlines.Line2D([], [], color='blue', marker='^',\n",
    "                          markersize=6, label='Noun')\n",
    "orange_line = mlines.Line2D([], [], color='orange', marker='*',\n",
    "                          markersize=6, label='Action')\n",
    "green_line = mlines.Line2D([], [], color='green', marker='o',\n",
    "                          markersize=6, label='Time')\n",
    "red_line = mlines.Line2D([], [], color='red', marker='s',\n",
    "                          markersize=6, label='Adjective')\n",
    "plt.legend(handles=[blue_line,orange_line,green_line,red_line],prop={'size': 10})\n",
    "\n",
    "# plt.show()"
   ]
  },
  {
   "cell_type": "markdown",
   "metadata": {},
   "source": [
    "## Synsets"
   ]
  },
  {
   "cell_type": "code",
   "execution_count": 4,
   "metadata": {},
   "outputs": [],
   "source": [
    "## We now try to identify creepiness of posts by looking at references of feeling \"scared\". We look at the occurrences of such \n",
    "##synonyms within all subreddits\n",
    "\n",
    "from nltk.corpus import wordnet\n",
    "from textblob import Word\n",
    "\n",
    "def find_synonyms(word):\n",
    "    #add a lemmatizer here to connect to n-grams?\n",
    "    synonyms = []\n",
    "#     antonyms = []\n",
    "\n",
    "    for syn in wordnet.synsets(word):\n",
    "        for l in syn.lemmas():\n",
    "            synonyms.append(l.name())\n",
    "#             if l.antonyms():\n",
    "#                 antonyms.append(l.antonyms()[0].name())\n",
    "\n",
    "    return set(synonyms)"
   ]
  },
  {
   "cell_type": "code",
   "execution_count": 19,
   "metadata": {},
   "outputs": [
    {
     "name": "stdout",
     "output_type": "stream",
     "text": [
      "{'scare_away', 'frightened', 'pock', 'frighten_off', 'mark', 'scare_off', 'dash', 'scared', 'affright', 'pit', 'scar', 'daunt', 'scare', 'frighten_away', 'fright', 'frighten', 'pall'}\n",
      "239 185\n"
     ]
    }
   ],
   "source": [
    "creepy = Word(\"scared\")\n",
    "data_counts = dict()\n",
    "\n",
    "l = pd.read_csv(\"RS_2016-02_creepypasta.csv\")\n",
    "df = pd.DataFrame(l)\n",
    "keys = find_synonyms(creepy)\n",
    "print(keys)\n",
    "\n",
    "count = 0\n",
    "num_passages = 0\n",
    "for passage in df['selftext'].dropna():\n",
    "#     if(passage!=\"[deleted]\"):\n",
    "#         continue\n",
    "    num_passages+=1\n",
    "    for w in keys:\n",
    "        try:\n",
    "            if w in passage:\n",
    "                count+=1\n",
    "        except TypeError:\n",
    "            pass\n",
    "print(count,num_passages)\n",
    "data_counts.update({\"creepypasta\":count/num_passages})"
   ]
  },
  {
   "cell_type": "code",
   "execution_count": 16,
   "metadata": {},
   "outputs": [
    {
     "name": "stdout",
     "output_type": "stream",
     "text": [
      "{'scare_away', 'frightened', 'pock', 'frighten_off', 'mark', 'scare_off', 'dash', 'scared', 'affright', 'pit', 'scar', 'daunt', 'scare', 'frighten_away', 'fright', 'frighten', 'pall'}\n",
      "65062 287429\n"
     ]
    }
   ],
   "source": [
    "l = pd.read_csv(\"Confession/RS_Confession.csv\")\n",
    "df = pd.DataFrame(l)\n",
    "keys = find_synonyms(creepy)\n",
    "print(keys)\n",
    "\n",
    "count = 0\n",
    "num_passages = 0\n",
    "for passage in df['selftext'].dropna():\n",
    "#     if(passage!=\"[deleted]\"):\n",
    "#         continue\n",
    "    num_passages+=1\n",
    "    for w in keys:\n",
    "        try:\n",
    "            if w in passage:\n",
    "                count+=1\n",
    "        except TypeError:\n",
    "            pass\n",
    "print(count,num_passages)\n",
    "data_counts.update({\"confession\":count/num_passages})"
   ]
  },
  {
   "cell_type": "code",
   "execution_count": 25,
   "metadata": {},
   "outputs": [
    {
     "name": "stdout",
     "output_type": "stream",
     "text": [
      "{'scare_away', 'frightened', 'pock', 'frighten_off', 'mark', 'scare_off', 'dash', 'scared', 'affright', 'pit', 'scar', 'daunt', 'scare', 'frighten_away', 'fright', 'frighten', 'pall'}\n",
      "1185 3780\n"
     ]
    }
   ],
   "source": [
    "l = pd.read_csv(\"StoriesAboutKevin/StoriesAboutKevin.csv\")\n",
    "df = pd.DataFrame(l)\n",
    "keys = find_synonyms(creepy)\n",
    "print(keys)\n",
    "\n",
    "count = 0\n",
    "num_passages = 0\n",
    "for passage in df['selftext'].dropna():\n",
    "#     if(passage!=\"[deleted]\"):\n",
    "#         continue\n",
    "    num_passages+=1\n",
    "    for w in keys:\n",
    "        try:\n",
    "            if w in passage:\n",
    "                count+=1\n",
    "        except TypeError:\n",
    "            pass\n",
    "print(count,num_passages)\n",
    "data_counts.update({\"storiesaboutkevin\":count/num_passages})"
   ]
  },
  {
   "cell_type": "code",
   "execution_count": null,
   "metadata": {
    "scrolled": false
   },
   "outputs": [],
   "source": []
  },
  {
   "cell_type": "code",
   "execution_count": 31,
   "metadata": {},
   "outputs": [
    {
     "name": "stdout",
     "output_type": "stream",
     "text": [
      "{'scare_away', 'frightened', 'pock', 'frighten_off', 'mark', 'scare_off', 'dash', 'scared', 'affright', 'pit', 'scar', 'daunt', 'scare', 'frighten_away', 'fright', 'frighten', 'pall'}\n",
      "1066 7214\n"
     ]
    }
   ],
   "source": [
    "l = pd.read_csv(\"TIFU/RS_2019-08_tifu.csv\")\n",
    "df = pd.DataFrame(l)\n",
    "keys = find_synonyms(creepy)\n",
    "print(keys)\n",
    "\n",
    "count = 0\n",
    "num_passages = 0\n",
    "for passage in df['selftext'].dropna():\n",
    "#     if(passage!=\"[deleted]\"):\n",
    "#         continue\n",
    "    num_passages+=1\n",
    "    for w in keys:\n",
    "        try:\n",
    "            if w in passage:\n",
    "                count+=1\n",
    "        except TypeError:\n",
    "            pass\n",
    "print(count,num_passages)\n",
    "data_counts.update({\"tifu\":count/num_passages})"
   ]
  },
  {
   "cell_type": "code",
   "execution_count": 38,
   "metadata": {},
   "outputs": [
    {
     "name": "stdout",
     "output_type": "stream",
     "text": [
      "{'scare_away', 'frightened', 'pock', 'frighten_off', 'mark', 'scare_off', 'dash', 'scared', 'affright', 'pit', 'scar', 'daunt', 'scare', 'frighten_away', 'fright', 'frighten', 'pall'}\n",
      "69 225\n"
     ]
    }
   ],
   "source": [
    "l = pd.read_csv(\"Confessions/RS_2013-12_confessions.csv\")\n",
    "df = pd.DataFrame(l)\n",
    "keys = find_synonyms(creepy)\n",
    "print(keys)\n",
    "\n",
    "count = 0\n",
    "num_passages = 0\n",
    "for passage in df['selftext'].dropna():\n",
    "#     if(passage!=\"[deleted]\"):\n",
    "#         continue\n",
    "    num_passages+=1\n",
    "    for w in keys:\n",
    "        try:\n",
    "            if w in passage:\n",
    "                count+=1\n",
    "        except TypeError:\n",
    "            pass\n",
    "print(count,num_passages)\n",
    "data_counts.update({\"confessions\":count/num_passages})"
   ]
  },
  {
   "cell_type": "code",
   "execution_count": 39,
   "metadata": {},
   "outputs": [
    {
     "data": {
      "text/plain": [
       "{'creepypasta': 1.2918918918918918,\n",
       " 'confession': 0.22635850940580107,\n",
       " 'storiesaboutkevin': 0.3134920634920635,\n",
       " 'tifu': 0.14776822844469087,\n",
       " 'confessions': 0.30666666666666664}"
      ]
     },
     "execution_count": 39,
     "metadata": {},
     "output_type": "execute_result"
    }
   ],
   "source": [
    "data_counts"
   ]
  },
  {
   "cell_type": "code",
   "execution_count": 168,
   "metadata": {},
   "outputs": [
    {
     "data": {
      "image/png": "[encoded data removed]",
      "text/plain": [
       "<Figure size 1080x667.491 with 1 Axes>"
      ]
     },
     "metadata": {
      "needs_background": "light"
     },
     "output_type": "display_data"
    }
   ],
   "source": [
    "from sklearn.feature_extraction.text import CountVectorizer\n",
    "import numpy as np\n",
    "import matplotlib.pyplot as plt\n",
    "import seaborn as sns\n",
    "sns.set_style('whitegrid')\n",
    "%matplotlib inline\n",
    "# Helper function\n",
    "def plot_10_most_common_words(count_data):\n",
    "    \n",
    "#     count_dict = (zip(words, total_counts))\n",
    "#     count_dict = sorted(count_dict, key=lambda x:x[1], reverse=True)[30:80]\n",
    "    count_dict = count_data\n",
    "    words = [w for w in count_dict.keys()]\n",
    "    counts = [w1 for w1 in count_dict.values()]\n",
    "    x_pos = np.arange(len(words)) \n",
    "    \n",
    "    plt.figure(2, figsize=(15, 15/1.6180))\n",
    "    plt.title(\"Occurence of Synonyms of \\\"Scared\\\" \", size=18)\n",
    "    sns.set_context(\"notebook\", font_scale=1.25, rc={\"lines.linewidth\": 2.5})\n",
    "    sns.barplot(x_pos, counts, palette='Accent')\n",
    "    plt.xticks(x_pos, words, rotation=90) \n",
    "    plt.xlabel('Subreddits')\n",
    "    plt.ylabel('Density per post')\n",
    "    plt.show()\n",
    "\n",
    "plot_10_most_common_words(data_counts)"
   ]
  },
  {
   "cell_type": "code",
   "execution_count": null,
   "metadata": {},
   "outputs": [],
   "source": []
  }
 ],
 "metadata": {
  "kernelspec": {
   "display_name": "Python 3",
   "language": "python",
   "name": "python3"
  },
  "language_info": {
   "codemirror_mode": {
    "name": "ipython",
    "version": 3
   },
   "file_extension": ".py",
   "mimetype": "text/x-python",
   "name": "python",
   "nbconvert_exporter": "python",
   "pygments_lexer": "ipython3",
   "version": "3.7.3"
  }
 },
 "nbformat": 4,
 "nbformat_minor": 2
}
